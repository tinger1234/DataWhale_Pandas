{
 "cells": [
  {
   "cell_type": "markdown",
   "metadata": {},
   "source": [
    "# 第2章 索引"
   ]
  },
  {
   "cell_type": "code",
   "execution_count": 2,
   "metadata": {},
   "outputs": [
    {
     "name": "stdout",
     "output_type": "stream",
     "text": [
      "     School Class Gender   Address  Height  Weight  Math Physics\nID                                                              \n1101    S_1   C_1      M  street_1     173      63  34.0      A+\n1102    S_1   C_1      F  street_2     192      73  32.5      B+\n1103    S_1   C_1      M  street_2     186      82  87.2      B+\n1104    S_1   C_1      F  street_2     167      81  80.4      B-\n1105    S_1   C_1      F  street_4     159      64  84.8      B+\n"
     ]
    }
   ],
   "source": [
    "import numpy as np\n",
    "import pandas as pd\n",
    "df = pd.read_csv('C:/Users/29146/PycharmProjects/DataWhale_pandas/Tasks_pandas/data/table.csv',index_col='ID')\n",
    "df.head()\n",
    "print(df.head())\n"
   ]
  },
  {
   "cell_type": "markdown",
   "metadata": {},
   "source": [
    "web版本df.head()可以显示出来内容，而pycharm则需要用print方式\n",
    "![pycharm](C:\\Users\\29146\\Desktop\\捕获1.JPG \"区块链\")"
   ]
  },
  {
   "cell_type": "markdown",
   "metadata": {},
   "source": [
    "# 一单级索引"
   ]
  },
  {
   "cell_type": "markdown",
   "metadata": {},
   "source": [
    "1. loc方法、iloc方法、[]操作符\n",
    "最常用的索引方法可能就是这三类，其中iloc表示位置索引，loc表示标签索引，[]也具有很大的便利性，各有特点。\n",
    "\n",
    " （a) loc方法（注意：所有在loc中所使用的切片全部包括右端点！） \n",
    "  \n",
    "  △loc方法是针对DataFrame索引名称的切片方法，如果传入的不是索引名称，那么切片操作将无法执行；利用loc方法，能够实现所有单层索引切片操作。\n",
    "\n",
    "         loc方法使用方法：DataFrame.loc[ 行索引名称或条件 , 列索引名称 ]   # 闭区间（含最后一个值）"
   ]
  },
  {
   "cell_type": "markdown",
   "metadata": {},
   "source": [
    "①单行索引"
   ]
  },
  {
   "cell_type": "code",
   "execution_count": 3,
   "metadata": {},
   "outputs": [
    {
     "data": {
      "text/plain": [
       "School          S_1\nClass           C_1\nGender            M\nAddress    street_2\nHeight          186\nWeight           82\nMath           87.2\nPhysics          B+\nName: 1103, dtype: object"
      ]
     },
     "execution_count": 3,
     "metadata": {},
     "output_type": "execute_result"
    }
   ],
   "source": [
    "df.loc[1103]"
   ]
  },
  {
   "cell_type": "markdown",
   "metadata": {},
   "source": [
    "②多行索引"
   ]
  },
  {
   "cell_type": "code",
   "execution_count": 4,
   "metadata": {},
   "outputs": [
    {
     "name": "stdout",
     "output_type": "stream",
     "text": [
      "     School Class Gender   Address  Height  Weight  Math Physics\nID                                                              \n1102    S_1   C_1      F  street_2     192      73  32.5      B+\n2304    S_2   C_3      F  street_6     164      81  95.5      A-\n"
     ]
    }
   ],
   "source": [
    "print(df.loc[[1102,2304]])\n"
   ]
  },
  {
   "cell_type": "markdown",
   "metadata": {},
   "source": [
    "*多行索引是需要内嵌一个列表。*"
   ]
  },
  {
   "cell_type": "code",
   "execution_count": 5,
   "metadata": {},
   "outputs": [
    {
     "name": "stdout",
     "output_type": "stream",
     "text": [
      "     School Class Gender   Address  Height  Weight  Math Physics\nID                                                              \n1101    S_1   C_1      M  street_1     173      63  34.0      A+\n1102    S_1   C_1      F  street_2     192      73  32.5      B+\n1103    S_1   C_1      M  street_2     186      82  87.2      B+\n1104    S_1   C_1      F  street_2     167      81  80.4      B-\n1105    S_1   C_1      F  street_4     159      64  84.8      B+\n"
     ]
    }
   ],
   "source": [
    "print(df.loc[1034:].head())"
   ]
  },
  {
   "cell_type": "code",
   "execution_count": 6,
   "metadata": {},
   "outputs": [
    {
     "name": "stdout",
     "output_type": "stream",
     "text": [
      "     School Class Gender   Address  Height  Weight  Math Physics\nID                                                              \n2402    S_2   C_4      M  street_7     166      82  48.7       B\n2401    S_2   C_4      F  street_2     192      62  45.3       A\n2305    S_2   C_3      M  street_4     187      73  48.9       B\n2304    S_2   C_3      F  street_6     164      81  95.5      A-\n2303    S_2   C_3      F  street_7     190      99  65.9       C\n"
     ]
    }
   ],
   "source": [
    "print(df.loc[2402::-1].head())# 顺序反过来"
   ]
  },
  {
   "cell_type": "markdown",
   "metadata": {},
   "source": [
    "③单列索引"
   ]
  },
  {
   "cell_type": "code",
   "execution_count": 7,
   "metadata": {},
   "outputs": [
    {
     "name": "stdout",
     "output_type": "stream",
     "text": [
      "ID\n1101    173\n1102    192\n1103    186\n1104    167\n1105    159\nName: Height, dtype: int64\n"
     ]
    }
   ],
   "source": [
    "print(df.loc[:,'Height'].head())"
   ]
  },
  {
   "cell_type": "markdown",
   "metadata": {},
   "source": [
    "* 需要补补切片的知识 *"
   ]
  },
  {
   "cell_type": "markdown",
   "metadata": {},
   "source": [
    "④多列索引"
   ]
  },
  {
   "cell_type": "code",
   "execution_count": 8,
   "metadata": {},
   "outputs": [
    {
     "name": "stdout",
     "output_type": "stream",
     "text": [
      "      Height  Math\nID                \n1102     192  32.5\n1103     186  87.2\n1104     167  80.4\n"
     ]
    }
   ],
   "source": [
    "print(df.loc[df.index[1]:df.index[3],['Height','Math']].head())"
   ]
  },
  {
   "cell_type": "code",
   "execution_count": 9,
   "metadata": {},
   "outputs": [
    {
     "name": "stdout",
     "output_type": "stream",
     "text": [
      "      Height\nID          \n1102     192\n1103     186\n1104     167\n"
     ]
    }
   ],
   "source": [
    "print(df.loc[df.index[1:4],['Height']].head())# loc的语法中是说行的索引，那直接上index就好了。"
   ]
  },
  {
   "cell_type": "markdown",
   "metadata": {},
   "source": [
    "此处需要熟悉下loc源码"
   ]
  },
  {
   "cell_type": "code",
   "execution_count": 10,
   "metadata": {},
   "outputs": [
    {
     "data": {
      "text/plain": [
       "pandas.core.frame.DataFrame"
      ]
     },
     "execution_count": 10,
     "metadata": {},
     "output_type": "execute_result"
    }
   ],
   "source": [
    "type(df)"
   ]
  },
  {
   "cell_type": "markdown",
   "metadata": {},
   "source": [
    "⑤联合索引"
   ]
  },
  {
   "cell_type": "code",
   "execution_count": 12,
   "metadata": {},
   "outputs": [
    {
     "name": "stdout",
     "output_type": "stream",
     "text": [
      "      Height  Weight  Math\nID                        \n1102     192      73  32.5\n1105     159      64  84.8\n1203     160      53  58.8\n1301     161      68  31.5\n1304     195      70  85.2\n"
     ]
    }
   ],
   "source": [
    "print(df.loc[1102:2401:3,'Height':'Math'].head())# loc前后的行列索引需要一致的方法。\n",
    "#print(df.loc[1102:2401:3,df.index].head())\n",
    "#Height到Math的列的所有数据\n",
    "\n",
    "# print(df.loc[1102:2401:3,df['Height']:df['Math']].head())行不通。"
   ]
  },
  {
   "cell_type": "markdown",
   "metadata": {},
   "source": [
    "问题：联合索引如果需要索引类似列标签a,b,c,d,e,f,g,h中的a,b,d,f,g咋办？"
   ]
  },
  {
   "cell_type": "markdown",
   "metadata": {},
   "source": [
    "⑥函数式索引"
   ]
  },
  {
   "cell_type": "code",
   "execution_count": 15,
   "metadata": {},
   "outputs": [
    {
     "name": "stdout",
     "output_type": "stream",
     "text": [
      "     School Class Gender   Address  Height  Weight  Math Physics\nID                                                              \n1101    S_1   C_1      M  street_1     173      63  34.0      A+\n1103    S_1   C_1      M  street_2     186      82  87.2      B+\n1201    S_1   C_2      M  street_5     188      68  97.0      A-\n1203    S_1   C_2      M  street_6     160      53  58.8      A+\n1301    S_1   C_3      M  street_4     161      68  31.5      B+\n"
     ]
    }
   ],
   "source": [
    "print(df.loc[lambda x : x['Gender']=='M'].head())"
   ]
  },
  {
   "cell_type": "code",
   "execution_count": 22,
   "metadata": {},
   "outputs": [
    {
     "name": "stdout",
     "output_type": "stream",
     "text": [
      "     School Class Gender   Address  Height  Weight  Math Physics\nID                                                              \n1101    S_1   C_1      M  street_1     173      63  34.0      A+\n1102    S_1   C_1      F  street_2     192      73  32.5      B+\n1103    S_1   C_1      M  street_2     186      82  87.2      B+\n1201    S_1   C_2      M  street_5     188      68  97.0      A-\n1202    S_1   C_2      F  street_4     176      94  63.5      B-\n"
     ]
    }
   ],
   "source": [
    "print(df.loc[lambda x:x['Height']>170].head())"
   ]
  },
  {
   "cell_type": "code",
   "execution_count": 31,
   "metadata": {},
   "outputs": [
    {
     "name": "stdout",
     "output_type": "stream",
     "text": [
      "     School Class Gender   Address  Height  Weight  Math Physics\nID                                                              \n1101    S_1   C_1      M  street_1     173      63  34.0      A+\n1103    S_1   C_1      M  street_2     186      82  87.2      B+\n"
     ]
    }
   ],
   "source": [
    "def f(x):\n",
    "    return [1101,1103]\n",
    "print(df.loc[f])"
   ]
  },
  {
   "cell_type": "markdown",
   "metadata": {},
   "source": [
    "⑦布尔索引"
   ]
  },
  {
   "cell_type": "code",
   "execution_count": 40,
   "metadata": {},
   "outputs": [
    {
     "name": "stdout",
     "output_type": "stream",
     "text": [
      "     School Class Gender   Address  Height  Weight  Math Physics\nID                                                              \n1105    S_1   C_1      F  street_4     159      64  84.8      B+\n1202    S_1   C_2      F  street_4     176      94  63.5      B-\n1301    S_1   C_3      M  street_4     161      68  31.5      B+\n1303    S_1   C_3      M  street_7     188      82  49.7       B\n2101    S_2   C_1      M  street_7     174      84  83.3       C\n"
     ]
    }
   ],
   "source": [
    "print(df.loc[df['Address'].isin(['street_7','street_4'])].head())"
   ]
  },
  {
   "cell_type": "code",
   "execution_count": 57,
   "metadata": {},
   "outputs": [
    {
     "name": "stdout",
     "output_type": "stream",
     "text": [
      "     School Class Gender   Address  Height  Weight  Math Physics\nID                                                              \n1105    S_1   C_1      F  street_4     159      64  84.8      B+\n1202    S_1   C_2      F  street_4     176      94  63.5      B-\n1301    S_1   C_3      M  street_4     161      68  31.5      B+\n1303    S_1   C_3      M  street_7     188      82  49.7       B\n2101    S_2   C_1      M  street_7     174      84  83.3       C\n"
     ]
    }
   ],
   "source": [
    "print(df.loc[[True if i[-1]=='4' or i[-1]=='7' else False for i in df['Address'].values]].head())"
   ]
  },
  {
   "cell_type": "markdown",
   "metadata": {},
   "source": [
    "小结：本质上说，loc中能传入的只有布尔列表和索引自己构成的列表，只要把握这个原则容易理解上面的那些操作。"
   ]
  },
  {
   "cell_type": "code",
   "execution_count": 58,
   "metadata": {},
   "outputs": [],
   "source": [
    "print(df[df['Gender']=='F'].head())"
   ]
  },
  {
   "cell_type": "markdown",
   "metadata": {},
   "source": [
    "(b) iloc方法（注意与loc不同，切片右端点不包含）\n",
    "①单行索引"
   ]
  },
  {
   "cell_type": "code",
   "execution_count": 59,
   "metadata": {},
   "outputs": [
    {
     "name": "stdout",
     "output_type": "stream",
     "text": [
      "School          S_1\nClass           C_1\nGender            M\nAddress    street_2\nHeight          186\nWeight           82\nMath           87.2\nPhysics          B+\nName: 1103, dtype: object\n"
     ]
    }
   ],
   "source": [
    "df.iloc[3]\n",
    "print(df.loc[1103])"
   ]
  },
  {
   "cell_type": "code",
   "execution_count": 60,
   "metadata": {},
   "outputs": [
    {
     "name": "stdout",
     "output_type": "stream",
     "text": [
      "     School Class Gender   Address  Height  Weight  Math Physics\nID                                                              \n1104    S_1   C_1      F  street_2     167      81  80.4      B-\n1105    S_1   C_1      F  street_4     159      64  84.8      B+\n"
     ]
    }
   ],
   "source": [
    "print(df.iloc[3:5])"
   ]
  },
  {
   "cell_type": "markdown",
   "metadata": {},
   "source": [
    "②多列索引"
   ]
  },
  {
   "cell_type": "code",
   "execution_count": 62,
   "metadata": {},
   "outputs": [
    {
     "name": "stdout",
     "output_type": "stream",
     "text": [
      "     Physics  Weight   Address Class\nID                                  \n1101      A+      63  street_1   C_1\n1102      B+      73  street_2   C_1\n1103      B+      82  street_2   C_1\n1104      B-      81  street_2   C_1\n1105      B+      64  street_4   C_1\n"
     ]
    }
   ],
   "source": [
    "print(df.iloc[:,7::-2].head())"
   ]
  },
  {
   "cell_type": "markdown",
   "metadata": {},
   "source": [
    "③多行索引"
   ]
  },
  {
   "cell_type": "code",
   "execution_count": 65,
   "metadata": {},
   "outputs": [
    {
     "name": "stdout",
     "output_type": "stream",
     "text": [
      "     School Class Gender   Address  Height  Weight  Math Physics\nID                                                              \n1104    S_1   C_1      F  street_2     167      81  80.4      B-\n1105    S_1   C_1      F  street_4     159      64  84.8      B+\n"
     ]
    }
   ],
   "source": [
    "print(df.iloc[3:5])"
   ]
  },
  {
   "cell_type": "markdown",
   "metadata": {},
   "source": [
    "④单列索引\n"
   ]
  },
  {
   "cell_type": "code",
   "execution_count": 71,
   "metadata": {},
   "outputs": [
    {
     "data": {
      "text/plain": [
       "ID\n1101    street_1\n1102    street_2\n1103    street_2\n1104    street_2\n1105    street_4\nName: Address, dtype: object"
      ]
     },
     "execution_count": 71,
     "metadata": {},
     "output_type": "execute_result"
    }
   ],
   "source": [
    "df.iloc[:,3].head()"
   ]
  },
  {
   "cell_type": "markdown",
   "metadata": {},
   "source": [
    "⑤混合索引"
   ]
  },
  {
   "cell_type": "code",
   "execution_count": 73,
   "metadata": {},
   "outputs": [
    {
     "data": {
      "text/html": [
       "<div>\n",
       "<style scoped>\n",
       "    .dataframe tbody tr th:only-of-type {\n",
       "        vertical-align: middle;\n",
       "    }\n",
       "\n",
       "    .dataframe tbody tr th {\n",
       "        vertical-align: top;\n",
       "    }\n",
       "\n",
       "    .dataframe thead th {\n",
       "        text-align: right;\n",
       "    }\n",
       "</style>\n",
       "<table border=\"1\" class=\"dataframe\">\n",
       "  <thead>\n",
       "    <tr style=\"text-align: right;\">\n",
       "      <th></th>\n",
       "      <th>Physics</th>\n",
       "      <th>Weight</th>\n",
       "      <th>Address</th>\n",
       "      <th>Class</th>\n",
       "    </tr>\n",
       "    <tr>\n",
       "      <th>ID</th>\n",
       "      <th></th>\n",
       "      <th></th>\n",
       "      <th></th>\n",
       "      <th></th>\n",
       "    </tr>\n",
       "  </thead>\n",
       "  <tbody>\n",
       "    <tr>\n",
       "      <td>1104</td>\n",
       "      <td>B-</td>\n",
       "      <td>81</td>\n",
       "      <td>street_2</td>\n",
       "      <td>C_1</td>\n",
       "    </tr>\n",
       "    <tr>\n",
       "      <td>1203</td>\n",
       "      <td>A+</td>\n",
       "      <td>53</td>\n",
       "      <td>street_6</td>\n",
       "      <td>C_2</td>\n",
       "    </tr>\n",
       "    <tr>\n",
       "      <td>1302</td>\n",
       "      <td>A-</td>\n",
       "      <td>57</td>\n",
       "      <td>street_1</td>\n",
       "      <td>C_3</td>\n",
       "    </tr>\n",
       "    <tr>\n",
       "      <td>2101</td>\n",
       "      <td>C</td>\n",
       "      <td>84</td>\n",
       "      <td>street_7</td>\n",
       "      <td>C_1</td>\n",
       "    </tr>\n",
       "    <tr>\n",
       "      <td>2105</td>\n",
       "      <td>A</td>\n",
       "      <td>81</td>\n",
       "      <td>street_4</td>\n",
       "      <td>C_1</td>\n",
       "    </tr>\n",
       "  </tbody>\n",
       "</table>\n",
       "</div>"
      ],
      "text/plain": [
       "<div>\n",
       "<style scoped>\n",
       "    .dataframe tbody tr th:only-of-type {\n",
       "        vertical-align: middle;\n",
       "    }\n",
       "\n",
       "    .dataframe tbody tr th {\n",
       "        vertical-align: top;\n",
       "    }\n",
       "\n",
       "    .dataframe thead th {\n",
       "        text-align: right;\n",
       "    }\n",
       "</style>\n",
       "<table border=\"1\" class=\"dataframe\">\n",
       "  <thead>\n",
       "    <tr style=\"text-align: right;\">\n",
       "      <th></th>\n",
       "      <th>Physics</th>\n",
       "      <th>Weight</th>\n",
       "      <th>Address</th>\n",
       "      <th>Class</th>\n",
       "    </tr>\n",
       "    <tr>\n",
       "      <th>ID</th>\n",
       "      <th></th>\n",
       "      <th></th>\n",
       "      <th></th>\n",
       "      <th></th>\n",
       "    </tr>\n",
       "  </thead>\n",
       "  <tbody>\n",
       "    <tr>\n",
       "      <td>1104</td>\n",
       "      <td>B-</td>\n",
       "      <td>81</td>\n",
       "      <td>street_2</td>\n",
       "      <td>C_1</td>\n",
       "    </tr>\n",
       "    <tr>\n",
       "      <td>1203</td>\n",
       "      <td>A+</td>\n",
       "      <td>53</td>\n",
       "      <td>street_6</td>\n",
       "      <td>C_2</td>\n",
       "    </tr>\n",
       "    <tr>\n",
       "      <td>1302</td>\n",
       "      <td>A-</td>\n",
       "      <td>57</td>\n",
       "      <td>street_1</td>\n",
       "      <td>C_3</td>\n",
       "    </tr>\n",
       "    <tr>\n",
       "      <td>2101</td>\n",
       "      <td>C</td>\n",
       "      <td>84</td>\n",
       "      <td>street_7</td>\n",
       "      <td>C_1</td>\n",
       "    </tr>\n",
       "    <tr>\n",
       "      <td>2105</td>\n",
       "      <td>A</td>\n",
       "      <td>81</td>\n",
       "      <td>street_4</td>\n",
       "      <td>C_1</td>\n",
       "    </tr>\n",
       "  </tbody>\n",
       "</table>\n",
       "</div>"
      ]
     },
     "execution_count": 73,
     "metadata": {},
     "output_type": "execute_result"
    }
   ],
   "source": [
    "df.iloc[3::4,7::-2].head()"
   ]
  },
  {
   "cell_type": "markdown",
   "metadata": {},
   "source": [
    "⑥函数式索引"
   ]
  },
  {
   "cell_type": "code",
   "execution_count": 74,
   "metadata": {},
   "outputs": [
    {
     "name": "stdout",
     "output_type": "stream",
     "text": [
      "     School Class Gender   Address  Height  Weight  Math Physics\nID                                                              \n1104    S_1   C_1      F  street_2     167      81  80.4      B-\n"
     ]
    }
   ],
   "source": [
    "print(df.iloc[lambda x:[3]].head())"
   ]
  },
  {
   "cell_type": "markdown",
   "metadata": {},
   "source": [
    "小结：有上述，iloc中接受的参数只能为整数或者整数列表，不能是布尔索引"
   ]
  },
  {
   "cell_type": "markdown",
   "metadata": {},
   "source": [
    "(c)[]操作符"
   ]
  },
  {
   "cell_type": "markdown",
   "metadata": {},
   "source": [
    "如果 不想陷入困境，请不要在行索引为浮点是使用[]操作符，因为Series中的浮点[]并不是进行位置比较。而是值比较，非常特殊，例子如下："
   ]
  },
  {
   "cell_type": "code",
   "execution_count": 77,
   "metadata": {},
   "outputs": [
    {
     "name": "stdout",
     "output_type": "stream",
     "text": [
      "     0\n1.1  1\n2.1  3\n3.1  4\n4.4  6\nss: 2.1    3\n3.1    4\n4.4    6\ndtype: int64\ndd:      0\n2.1  3\n3.1  4\n4.4  6\n"
     ]
    }
   ],
   "source": [
    "s = pd.Series([1,3,4,6],index=[1,2,3,4])\n",
    "#print(s)\n",
    "#print(s[2:])\n",
    "ss = pd.Series([1,3,4,6],index=[1.1,2.1,3.1,4.4])\n",
    "dd = pd.DataFrame([1,3,4,6],index=[1.1,2.1,3.1,4.4])\n",
    "#print(ss)\n",
    "print(dd)\n",
    "print(\"ss:\",ss[2.1:])\n",
    "print(\"dd:\",dd[2.1:])\n",
    "#print(ss[2:])\n",
    "#print(ss[2.1])"
   ]
  },
  {
   "cell_type": "markdown",
   "metadata": {},
   "source": [
    "为啥上面会有一个0出现"
   ]
  },
  {
   "cell_type": "markdown",
   "metadata": {},
   "source": [
    "①单元素索引"
   ]
  },
  {
   "cell_type": "code",
   "execution_count": 79,
   "metadata": {},
   "outputs": [
    {
     "data": {
      "text/plain": [
       "34.0"
      ]
     },
     "execution_count": 79,
     "metadata": {},
     "output_type": "execute_result"
    }
   ],
   "source": [
    "s = pd.Series(df['Math'],index=df.index)\n",
    "s[1101]"
   ]
  },
  {
   "cell_type": "markdown",
   "metadata": {},
   "source": [
    "②多行索引"
   ]
  },
  {
   "cell_type": "code",
   "execution_count": 82,
   "metadata": {},
   "outputs": [
    {
     "data": {
      "text/plain": [
       "ID\n1101    34.0\n1102    32.5\n1103    87.2\n1104    80.4\nName: Math, dtype: float64"
      ]
     },
     "execution_count": 82,
     "metadata": {},
     "output_type": "execute_result"
    }
   ],
   "source": [
    "s[0:4]"
   ]
  },
  {
   "cell_type": "markdown",
   "metadata": {},
   "source": [
    "③函数式索引"
   ]
  },
  {
   "cell_type": "code",
   "execution_count": 83,
   "metadata": {},
   "outputs": [
    {
     "data": {
      "text/plain": [
       "ID\n2102    50.6\n1301    31.5\n1105    84.8\nName: Math, dtype: float64"
      ]
     },
     "execution_count": 83,
     "metadata": {},
     "output_type": "execute_result"
    }
   ],
   "source": [
    "s[lambda x:x.index[16::-6]]"
   ]
  },
  {
   "cell_type": "code",
   "execution_count": 86,
   "metadata": {},
   "outputs": [
    {
     "data": {
      "text/plain": [
       "ID\n2102    50.6\n1301    31.5\n1105    84.8\nName: Math, dtype: float64"
      ]
     },
     "execution_count": 86,
     "metadata": {},
     "output_type": "execute_result"
    }
   ],
   "source": [
    "s[16::-6]\n",
    "#注意使用lambda函数式时，直接切片就报错，比如s[lambda  X:16::-6].此时使用的不是绝对位置切片，而是元素切片，非常易错              ."
   ]
  },
  {
   "cell_type": "markdown",
   "metadata": {},
   "source": [
    "④布尔索引"
   ]
  },
  {
   "cell_type": "code",
   "execution_count": 88,
   "metadata": {},
   "outputs": [
    {
     "name": "stdout",
     "output_type": "stream",
     "text": [
      "ID\n1103    87.2\n1104    80.4\n1105    84.8\n1201    97.0\n1302    87.7\n1304    85.2\n2101    83.3\n2205    85.4\n2304    95.5\nName: Math, dtype: float64\n````````````````````````````\n<class 'pandas.core.series.Series'>\n"
     ]
    },
    {
     "ename": "ValueError",
     "evalue": "The truth value of a Series is ambiguous. Use a.empty, a.bool(), a.item(), a.any() or a.all().",
     "traceback": [
      "\u001b[1;31m---------------------------------------------------------------------------\u001b[0m",
      "\u001b[1;31mValueError\u001b[0m                                Traceback (most recent call last)",
      "\u001b[1;32m<ipython-input-88-d1e32bed2e44>\u001b[0m in \u001b[0;36m<module>\u001b[1;34m\u001b[0m\n\u001b[0;32m      2\u001b[0m \u001b[0mprint\u001b[0m\u001b[1;33m(\u001b[0m\u001b[1;34m'````````````````````````````'\u001b[0m\u001b[1;33m)\u001b[0m\u001b[1;33m\u001b[0m\u001b[1;33m\u001b[0m\u001b[0m\n\u001b[0;32m      3\u001b[0m \u001b[0mprint\u001b[0m\u001b[1;33m(\u001b[0m\u001b[0mtype\u001b[0m\u001b[1;33m(\u001b[0m\u001b[0ms\u001b[0m\u001b[1;33m>\u001b[0m\u001b[1;36m80\u001b[0m\u001b[1;33m)\u001b[0m\u001b[1;33m)\u001b[0m\u001b[1;31m#返回的是布尔值\u001b[0m\u001b[1;33m\u001b[0m\u001b[1;33m\u001b[0m\u001b[0m\n\u001b[1;32m----> 4\u001b[1;33m \u001b[1;32mif\u001b[0m \u001b[0ms\u001b[0m\u001b[1;33m>\u001b[0m\u001b[1;36m80\u001b[0m\u001b[1;33m:\u001b[0m\u001b[1;33m\u001b[0m\u001b[1;33m\u001b[0m\u001b[0m\n\u001b[0m\u001b[0;32m      5\u001b[0m     \u001b[0mprint\u001b[0m\u001b[1;33m(\u001b[0m\u001b[0ms\u001b[0m\u001b[1;33m[\u001b[0m\u001b[0ms\u001b[0m\u001b[1;33m]\u001b[0m\u001b[1;33m)\u001b[0m\u001b[1;33m\u001b[0m\u001b[1;33m\u001b[0m\u001b[0m\n",
      "\u001b[1;32mc:\\users\\29146\\appdata\\local\\programs\\python\\python37\\lib\\site-packages\\pandas\\core\\generic.py\u001b[0m in \u001b[0;36m__nonzero__\u001b[1;34m(self)\u001b[0m\n\u001b[0;32m   1553\u001b[0m             \u001b[1;34m\"The truth value of a {0} is ambiguous. \"\u001b[0m\u001b[1;33m\u001b[0m\u001b[1;33m\u001b[0m\u001b[0m\n\u001b[0;32m   1554\u001b[0m             \"Use a.empty, a.bool(), a.item(), a.any() or a.all().\".format(\n\u001b[1;32m-> 1555\u001b[1;33m                 \u001b[0mself\u001b[0m\u001b[1;33m.\u001b[0m\u001b[0m__class__\u001b[0m\u001b[1;33m.\u001b[0m\u001b[0m__name__\u001b[0m\u001b[1;33m\u001b[0m\u001b[1;33m\u001b[0m\u001b[0m\n\u001b[0m\u001b[0;32m   1556\u001b[0m             )\n\u001b[0;32m   1557\u001b[0m         )\n",
      "\u001b[1;31mValueError\u001b[0m: The truth value of a Series is ambiguous. Use a.empty, a.bool(), a.item(), a.any() or a.all()."
     ],
     "output_type": "error"
    }
   ],
   "source": [
    "print(s[s>80])\n",
    "print('````````````````````````````')\n",
    "print(type(s>80))#返回的是布尔值\n",
    "if s>80:\n",
    "    print(s[s])"
   ]
  },
  {
   "cell_type": "markdown",
   "metadata": {},
   "source": [
    "这里为啥是s跟80比较"
   ]
  },
  {
   "cell_type": "markdown",
   "metadata": {},
   "source": [
    "(c.2)DataFrame的[]操作"
   ]
  },
  {
   "cell_type": "markdown",
   "metadata": {},
   "source": [
    "①单行操作："
   ]
  },
  {
   "cell_type": "code",
   "execution_count": 97,
   "metadata": {},
   "outputs": [
    {
     "name": "stdout",
     "output_type": "stream",
     "text": [
      "     School Class Gender   Address  Height  Weight  Math Physics\nID                                                              \n1102    S_1   C_1      F  street_2     192      73  32.5      B+\n"
     ]
    }
   ],
   "source": [
    "print(df[1:2])#左闭右开区间\n",
    "#这里非常容易写成df['label']，会报错\n",
    "#同Series使用了绝对位置切片\n",
    "#如果想要获得某一个元素，可用如下get_loc方法："
   ]
  },
  {
   "cell_type": "code",
   "execution_count": 115,
   "metadata": {},
   "outputs": [
    {
     "name": "stdout",
     "output_type": "stream",
     "text": [
      "     School Class Gender   Address  Height  Weight  Math Physics\nID                                                              \n1102    S_1   C_1      F  street_2     192      73  32.5      B+\n"
     ]
    }
   ],
   "source": [
    "row = df.index.get_loc(1102)\n",
    "print(df[row:row+1])"
   ]
  },
  {
   "cell_type": "markdown",
   "metadata": {},
   "source": [
    "②多行索引\n",
    "##用切片，如果是选定的某几行，推荐使用loc,否则很可能报错\n"
   ]
  },
  {
   "cell_type": "code",
   "execution_count": 127,
   "metadata": {},
   "outputs": [
    {
     "name": "stdout",
     "output_type": "stream",
     "text": [
      "     School Class Gender   Address  Height  Weight  Math Physics\nID                                                              \n1104    S_1   C_1      F  street_2     167      81  80.4      B-\n1105    S_1   C_1      F  street_4     159      64  84.8      B+\n"
     ]
    }
   ],
   "source": [
    "print(df[3:5])"
   ]
  },
  {
   "cell_type": "markdown",
   "metadata": {},
   "source": [
    "③单列索引"
   ]
  },
  {
   "cell_type": "code",
   "execution_count": 128,
   "metadata": {},
   "outputs": [
    {
     "data": {
      "text/plain": [
       "ID\n1101    S_1\n1102    S_1\n1103    S_1\n1104    S_1\n1105    S_1\nName: School, dtype: object"
      ]
     },
     "execution_count": 128,
     "metadata": {},
     "output_type": "execute_result"
    }
   ],
   "source": [
    "df['School'].head()\n"
   ]
  },
  {
   "cell_type": "markdown",
   "metadata": {},
   "source": [
    "④多列索引"
   ]
  },
  {
   "cell_type": "code",
   "execution_count": 129,
   "metadata": {},
   "outputs": [
    {
     "data": {
      "text/html": [
       "<div>\n",
       "<style scoped>\n",
       "    .dataframe tbody tr th:only-of-type {\n",
       "        vertical-align: middle;\n",
       "    }\n",
       "\n",
       "    .dataframe tbody tr th {\n",
       "        vertical-align: top;\n",
       "    }\n",
       "\n",
       "    .dataframe thead th {\n",
       "        text-align: right;\n",
       "    }\n",
       "</style>\n",
       "<table border=\"1\" class=\"dataframe\">\n",
       "  <thead>\n",
       "    <tr style=\"text-align: right;\">\n",
       "      <th></th>\n",
       "      <th>School</th>\n",
       "      <th>Math</th>\n",
       "    </tr>\n",
       "    <tr>\n",
       "      <th>ID</th>\n",
       "      <th></th>\n",
       "      <th></th>\n",
       "    </tr>\n",
       "  </thead>\n",
       "  <tbody>\n",
       "    <tr>\n",
       "      <td>1101</td>\n",
       "      <td>S_1</td>\n",
       "      <td>34.0</td>\n",
       "    </tr>\n",
       "    <tr>\n",
       "      <td>1102</td>\n",
       "      <td>S_1</td>\n",
       "      <td>32.5</td>\n",
       "    </tr>\n",
       "    <tr>\n",
       "      <td>1103</td>\n",
       "      <td>S_1</td>\n",
       "      <td>87.2</td>\n",
       "    </tr>\n",
       "    <tr>\n",
       "      <td>1104</td>\n",
       "      <td>S_1</td>\n",
       "      <td>80.4</td>\n",
       "    </tr>\n",
       "    <tr>\n",
       "      <td>1105</td>\n",
       "      <td>S_1</td>\n",
       "      <td>84.8</td>\n",
       "    </tr>\n",
       "  </tbody>\n",
       "</table>\n",
       "</div>"
      ],
      "text/plain": [
       "<div>\n",
       "<style scoped>\n",
       "    .dataframe tbody tr th:only-of-type {\n",
       "        vertical-align: middle;\n",
       "    }\n",
       "\n",
       "    .dataframe tbody tr th {\n",
       "        vertical-align: top;\n",
       "    }\n",
       "\n",
       "    .dataframe thead th {\n",
       "        text-align: right;\n",
       "    }\n",
       "</style>\n",
       "<table border=\"1\" class=\"dataframe\">\n",
       "  <thead>\n",
       "    <tr style=\"text-align: right;\">\n",
       "      <th></th>\n",
       "      <th>School</th>\n",
       "      <th>Math</th>\n",
       "    </tr>\n",
       "    <tr>\n",
       "      <th>ID</th>\n",
       "      <th></th>\n",
       "      <th></th>\n",
       "    </tr>\n",
       "  </thead>\n",
       "  <tbody>\n",
       "    <tr>\n",
       "      <td>1101</td>\n",
       "      <td>S_1</td>\n",
       "      <td>34.0</td>\n",
       "    </tr>\n",
       "    <tr>\n",
       "      <td>1102</td>\n",
       "      <td>S_1</td>\n",
       "      <td>32.5</td>\n",
       "    </tr>\n",
       "    <tr>\n",
       "      <td>1103</td>\n",
       "      <td>S_1</td>\n",
       "      <td>87.2</td>\n",
       "    </tr>\n",
       "    <tr>\n",
       "      <td>1104</td>\n",
       "      <td>S_1</td>\n",
       "      <td>80.4</td>\n",
       "    </tr>\n",
       "    <tr>\n",
       "      <td>1105</td>\n",
       "      <td>S_1</td>\n",
       "      <td>84.8</td>\n",
       "    </tr>\n",
       "  </tbody>\n",
       "</table>\n",
       "</div>"
      ]
     },
     "execution_count": 129,
     "metadata": {},
     "output_type": "execute_result"
    }
   ],
   "source": [
    "df[['School','Math']].head()"
   ]
  },
  {
   "cell_type": "markdown",
   "metadata": {},
   "source": [
    "⑤函数式索引"
   ]
  },
  {
   "cell_type": "code",
   "execution_count": 130,
   "metadata": {},
   "outputs": [
    {
     "data": {
      "text/html": [
       "<div>\n",
       "<style scoped>\n",
       "    .dataframe tbody tr th:only-of-type {\n",
       "        vertical-align: middle;\n",
       "    }\n",
       "\n",
       "    .dataframe tbody tr th {\n",
       "        vertical-align: top;\n",
       "    }\n",
       "\n",
       "    .dataframe thead th {\n",
       "        text-align: right;\n",
       "    }\n",
       "</style>\n",
       "<table border=\"1\" class=\"dataframe\">\n",
       "  <thead>\n",
       "    <tr style=\"text-align: right;\">\n",
       "      <th></th>\n",
       "      <th>Math</th>\n",
       "      <th>Physics</th>\n",
       "    </tr>\n",
       "    <tr>\n",
       "      <th>ID</th>\n",
       "      <th></th>\n",
       "      <th></th>\n",
       "    </tr>\n",
       "  </thead>\n",
       "  <tbody>\n",
       "    <tr>\n",
       "      <td>1101</td>\n",
       "      <td>34.0</td>\n",
       "      <td>A+</td>\n",
       "    </tr>\n",
       "    <tr>\n",
       "      <td>1102</td>\n",
       "      <td>32.5</td>\n",
       "      <td>B+</td>\n",
       "    </tr>\n",
       "    <tr>\n",
       "      <td>1103</td>\n",
       "      <td>87.2</td>\n",
       "      <td>B+</td>\n",
       "    </tr>\n",
       "    <tr>\n",
       "      <td>1104</td>\n",
       "      <td>80.4</td>\n",
       "      <td>B-</td>\n",
       "    </tr>\n",
       "    <tr>\n",
       "      <td>1105</td>\n",
       "      <td>84.8</td>\n",
       "      <td>B+</td>\n",
       "    </tr>\n",
       "  </tbody>\n",
       "</table>\n",
       "</div>"
      ],
      "text/plain": [
       "<div>\n",
       "<style scoped>\n",
       "    .dataframe tbody tr th:only-of-type {\n",
       "        vertical-align: middle;\n",
       "    }\n",
       "\n",
       "    .dataframe tbody tr th {\n",
       "        vertical-align: top;\n",
       "    }\n",
       "\n",
       "    .dataframe thead th {\n",
       "        text-align: right;\n",
       "    }\n",
       "</style>\n",
       "<table border=\"1\" class=\"dataframe\">\n",
       "  <thead>\n",
       "    <tr style=\"text-align: right;\">\n",
       "      <th></th>\n",
       "      <th>Math</th>\n",
       "      <th>Physics</th>\n",
       "    </tr>\n",
       "    <tr>\n",
       "      <th>ID</th>\n",
       "      <th></th>\n",
       "      <th></th>\n",
       "    </tr>\n",
       "  </thead>\n",
       "  <tbody>\n",
       "    <tr>\n",
       "      <td>1101</td>\n",
       "      <td>34.0</td>\n",
       "      <td>A+</td>\n",
       "    </tr>\n",
       "    <tr>\n",
       "      <td>1102</td>\n",
       "      <td>32.5</td>\n",
       "      <td>B+</td>\n",
       "    </tr>\n",
       "    <tr>\n",
       "      <td>1103</td>\n",
       "      <td>87.2</td>\n",
       "      <td>B+</td>\n",
       "    </tr>\n",
       "    <tr>\n",
       "      <td>1104</td>\n",
       "      <td>80.4</td>\n",
       "      <td>B-</td>\n",
       "    </tr>\n",
       "    <tr>\n",
       "      <td>1105</td>\n",
       "      <td>84.8</td>\n",
       "      <td>B+</td>\n",
       "    </tr>\n",
       "  </tbody>\n",
       "</table>\n",
       "</div>"
      ]
     },
     "execution_count": 130,
     "metadata": {},
     "output_type": "execute_result"
    }
   ],
   "source": [
    "df[lambda x:['Math','Physics']].head()"
   ]
  },
  {
   "cell_type": "markdown",
   "metadata": {},
   "source": [
    "⑥布尔索引"
   ]
  },
  {
   "cell_type": "code",
   "execution_count": 131,
   "metadata": {},
   "outputs": [
    {
     "name": "stdout",
     "output_type": "stream",
     "text": [
      "     School Class Gender   Address  Height  Weight  Math Physics\nID                                                              \n1102    S_1   C_1      F  street_2     192      73  32.5      B+\n1104    S_1   C_1      F  street_2     167      81  80.4      B-\n1105    S_1   C_1      F  street_4     159      64  84.8      B+\n1202    S_1   C_2      F  street_4     176      94  63.5      B-\n1204    S_1   C_2      F  street_5     162      63  33.8       B\n"
     ]
    }
   ],
   "source": [
    "print(df[df['Gender']=='F'].head())"
   ]
  },
  {
   "cell_type": "markdown",
   "metadata": {},
   "source": [
    "小结：一般来说，[]操作符常用语列选择或布尔操作，尽量避免行的选择\n"
   ]
  },
  {
   "cell_type": "markdown",
   "metadata": {},
   "source": [
    "##2.\t布尔索引"
   ]
  },
  {
   "cell_type": "markdown",
   "metadata": {},
   "source": [
    "（a）布尔符号：\"&\",\"|\",\"~\"分别是and,or,not,"
   ]
  },
  {
   "cell_type": "code",
   "execution_count": 132,
   "metadata": {},
   "outputs": [],
   "source": [
    "print(df[(df['Gender']=='F')&(df['Address']=='street_2')].head())"
   ]
  },
  {
   "cell_type": "code",
   "execution_count": 135,
   "metadata": {},
   "outputs": [
    {
     "name": "stdout",
     "output_type": "stream",
     "text": [
      "     School Class Gender   Address  Height  Weight  Math Physics\nID                                                              \n1103    S_1   C_1      M  street_2     186      82  87.2      B+\n1201    S_1   C_2      M  street_5     188      68  97.0      A-\n1302    S_1   C_3      F  street_1     175      57  87.7      A-\n1303    S_1   C_3      M  street_7     188      82  49.7       B\n1304    S_1   C_3      M  street_2     195      70  85.2       A\n"
     ]
    }
   ],
   "source": [
    "print(df[(df['Math']>85)|(df['Address']=='street_7')].head())"
   ]
  },
  {
   "cell_type": "code",
   "execution_count": 136,
   "metadata": {},
   "outputs": [],
   "source": [
    "print(df[~(df['Math']>75)|(df['Address']=='street_1')].head())"
   ]
  },
  {
   "cell_type": "markdown",
   "metadata": {},
   "source": [
    "loc和[]中相应位置都能使用布尔列表选择："
   ]
  },
  {
   "cell_type": "code",
   "execution_count": 138,
   "metadata": {},
   "outputs": [
    {
     "name": "stdout",
     "output_type": "stream",
     "text": [
      "     Physics\nID          \n1103      B+\n1104      B-\n1105      B+\n1201      A-\n1202      B-\n"
     ]
    },
    {
     "ename": "IndexError",
     "evalue": "Item wrong length 9 instead of 8.",
     "traceback": [
      "\u001b[1;31m---------------------------------------------------------------------------\u001b[0m",
      "\u001b[1;31mIndexError\u001b[0m                                Traceback (most recent call last)",
      "\u001b[1;32m<ipython-input-138-56458d7bb302>\u001b[0m in \u001b[0;36m<module>\u001b[1;34m\u001b[0m\n\u001b[0;32m      1\u001b[0m \u001b[0mprint\u001b[0m\u001b[1;33m(\u001b[0m\u001b[0mdf\u001b[0m\u001b[1;33m.\u001b[0m\u001b[0mloc\u001b[0m\u001b[1;33m[\u001b[0m\u001b[0mdf\u001b[0m\u001b[1;33m[\u001b[0m\u001b[1;34m'Math'\u001b[0m\u001b[1;33m]\u001b[0m\u001b[1;33m>\u001b[0m\u001b[1;36m60\u001b[0m\u001b[1;33m,\u001b[0m\u001b[1;33m(\u001b[0m\u001b[0mdf\u001b[0m\u001b[1;33m[\u001b[0m\u001b[1;33m:\u001b[0m\u001b[1;36m8\u001b[0m\u001b[1;33m]\u001b[0m\u001b[1;33m[\u001b[0m\u001b[1;34m'Address'\u001b[0m\u001b[1;33m]\u001b[0m\u001b[1;33m==\u001b[0m\u001b[1;34m'street_6'\u001b[0m\u001b[1;33m)\u001b[0m\u001b[1;33m.\u001b[0m\u001b[0mvalues\u001b[0m\u001b[1;33m]\u001b[0m\u001b[1;33m.\u001b[0m\u001b[0mhead\u001b[0m\u001b[1;33m(\u001b[0m\u001b[1;33m)\u001b[0m\u001b[1;33m)\u001b[0m\u001b[1;33m\u001b[0m\u001b[1;33m\u001b[0m\u001b[0m\n\u001b[0;32m      2\u001b[0m \u001b[1;33m\u001b[0m\u001b[0m\n\u001b[1;32m----> 3\u001b[1;33m \u001b[0mdf\u001b[0m\u001b[1;33m.\u001b[0m\u001b[0mloc\u001b[0m\u001b[1;33m[\u001b[0m\u001b[0mdf\u001b[0m\u001b[1;33m[\u001b[0m\u001b[1;34m'Math'\u001b[0m\u001b[1;33m]\u001b[0m\u001b[1;33m>\u001b[0m\u001b[1;36m60\u001b[0m\u001b[1;33m,\u001b[0m\u001b[1;33m(\u001b[0m\u001b[0mdf\u001b[0m\u001b[1;33m[\u001b[0m\u001b[1;33m:\u001b[0m\u001b[1;36m9\u001b[0m\u001b[1;33m]\u001b[0m\u001b[1;33m[\u001b[0m\u001b[1;34m'Address'\u001b[0m\u001b[1;33m]\u001b[0m\u001b[1;33m==\u001b[0m\u001b[1;34m'street_6'\u001b[0m\u001b[1;33m)\u001b[0m\u001b[1;33m.\u001b[0m\u001b[0mvalues\u001b[0m\u001b[1;33m]\u001b[0m\u001b[1;33m.\u001b[0m\u001b[0mhead\u001b[0m\u001b[1;33m(\u001b[0m\u001b[1;33m)\u001b[0m\u001b[1;33m\u001b[0m\u001b[1;33m\u001b[0m\u001b[0m\n\u001b[0m\u001b[0;32m      4\u001b[0m \u001b[1;31m##如果不加values就会索引对齐发生错误，Pandas中的索引对齐是一个重要特征，很多时候非常使用\u001b[0m\u001b[1;33m\u001b[0m\u001b[1;33m\u001b[0m\u001b[1;33m\u001b[0m\u001b[0m\n\u001b[0;32m      5\u001b[0m \u001b[1;31m#但是若不加以留意，就会埋下隐患\u001b[0m\u001b[1;33m\u001b[0m\u001b[1;33m\u001b[0m\u001b[1;33m\u001b[0m\u001b[0m\n",
      "\u001b[1;32mc:\\users\\29146\\appdata\\local\\programs\\python\\python37\\lib\\site-packages\\pandas\\core\\indexing.py\u001b[0m in \u001b[0;36m__getitem__\u001b[1;34m(self, key)\u001b[0m\n\u001b[0;32m   1416\u001b[0m                 \u001b[1;32mexcept\u001b[0m \u001b[1;33m(\u001b[0m\u001b[0mKeyError\u001b[0m\u001b[1;33m,\u001b[0m \u001b[0mIndexError\u001b[0m\u001b[1;33m,\u001b[0m \u001b[0mAttributeError\u001b[0m\u001b[1;33m)\u001b[0m\u001b[1;33m:\u001b[0m\u001b[1;33m\u001b[0m\u001b[1;33m\u001b[0m\u001b[0m\n\u001b[0;32m   1417\u001b[0m                     \u001b[1;32mpass\u001b[0m\u001b[1;33m\u001b[0m\u001b[1;33m\u001b[0m\u001b[0m\n\u001b[1;32m-> 1418\u001b[1;33m             \u001b[1;32mreturn\u001b[0m \u001b[0mself\u001b[0m\u001b[1;33m.\u001b[0m\u001b[0m_getitem_tuple\u001b[0m\u001b[1;33m(\u001b[0m\u001b[0mkey\u001b[0m\u001b[1;33m)\u001b[0m\u001b[1;33m\u001b[0m\u001b[1;33m\u001b[0m\u001b[0m\n\u001b[0m\u001b[0;32m   1419\u001b[0m         \u001b[1;32melse\u001b[0m\u001b[1;33m:\u001b[0m\u001b[1;33m\u001b[0m\u001b[1;33m\u001b[0m\u001b[0m\n\u001b[0;32m   1420\u001b[0m             \u001b[1;31m# we by definition only have the 0th axis\u001b[0m\u001b[1;33m\u001b[0m\u001b[1;33m\u001b[0m\u001b[1;33m\u001b[0m\u001b[0m\n",
      "\u001b[1;32mc:\\users\\29146\\appdata\\local\\programs\\python\\python37\\lib\\site-packages\\pandas\\core\\indexing.py\u001b[0m in \u001b[0;36m_getitem_tuple\u001b[1;34m(self, tup)\u001b[0m\n\u001b[0;32m    820\u001b[0m                 \u001b[1;32mcontinue\u001b[0m\u001b[1;33m\u001b[0m\u001b[1;33m\u001b[0m\u001b[0m\n\u001b[0;32m    821\u001b[0m \u001b[1;33m\u001b[0m\u001b[0m\n\u001b[1;32m--> 822\u001b[1;33m             \u001b[0mretval\u001b[0m \u001b[1;33m=\u001b[0m \u001b[0mgetattr\u001b[0m\u001b[1;33m(\u001b[0m\u001b[0mretval\u001b[0m\u001b[1;33m,\u001b[0m \u001b[0mself\u001b[0m\u001b[1;33m.\u001b[0m\u001b[0mname\u001b[0m\u001b[1;33m)\u001b[0m\u001b[1;33m.\u001b[0m\u001b[0m_getitem_axis\u001b[0m\u001b[1;33m(\u001b[0m\u001b[0mkey\u001b[0m\u001b[1;33m,\u001b[0m \u001b[0maxis\u001b[0m\u001b[1;33m=\u001b[0m\u001b[0mi\u001b[0m\u001b[1;33m)\u001b[0m\u001b[1;33m\u001b[0m\u001b[1;33m\u001b[0m\u001b[0m\n\u001b[0m\u001b[0;32m    823\u001b[0m \u001b[1;33m\u001b[0m\u001b[0m\n\u001b[0;32m    824\u001b[0m         \u001b[1;32mreturn\u001b[0m \u001b[0mretval\u001b[0m\u001b[1;33m\u001b[0m\u001b[1;33m\u001b[0m\u001b[0m\n",
      "\u001b[1;32mc:\\users\\29146\\appdata\\local\\programs\\python\\python37\\lib\\site-packages\\pandas\\core\\indexing.py\u001b[0m in \u001b[0;36m_getitem_axis\u001b[1;34m(self, key, axis)\u001b[0m\n\u001b[0;32m   1797\u001b[0m             \u001b[1;32mreturn\u001b[0m \u001b[0mself\u001b[0m\u001b[1;33m.\u001b[0m\u001b[0m_get_slice_axis\u001b[0m\u001b[1;33m(\u001b[0m\u001b[0mkey\u001b[0m\u001b[1;33m,\u001b[0m \u001b[0maxis\u001b[0m\u001b[1;33m=\u001b[0m\u001b[0maxis\u001b[0m\u001b[1;33m)\u001b[0m\u001b[1;33m\u001b[0m\u001b[1;33m\u001b[0m\u001b[0m\n\u001b[0;32m   1798\u001b[0m         \u001b[1;32melif\u001b[0m \u001b[0mcom\u001b[0m\u001b[1;33m.\u001b[0m\u001b[0mis_bool_indexer\u001b[0m\u001b[1;33m(\u001b[0m\u001b[0mkey\u001b[0m\u001b[1;33m)\u001b[0m\u001b[1;33m:\u001b[0m\u001b[1;33m\u001b[0m\u001b[1;33m\u001b[0m\u001b[0m\n\u001b[1;32m-> 1799\u001b[1;33m             \u001b[1;32mreturn\u001b[0m \u001b[0mself\u001b[0m\u001b[1;33m.\u001b[0m\u001b[0m_getbool_axis\u001b[0m\u001b[1;33m(\u001b[0m\u001b[0mkey\u001b[0m\u001b[1;33m,\u001b[0m \u001b[0maxis\u001b[0m\u001b[1;33m=\u001b[0m\u001b[0maxis\u001b[0m\u001b[1;33m)\u001b[0m\u001b[1;33m\u001b[0m\u001b[1;33m\u001b[0m\u001b[0m\n\u001b[0m\u001b[0;32m   1800\u001b[0m         \u001b[1;32melif\u001b[0m \u001b[0mis_list_like_indexer\u001b[0m\u001b[1;33m(\u001b[0m\u001b[0mkey\u001b[0m\u001b[1;33m)\u001b[0m\u001b[1;33m:\u001b[0m\u001b[1;33m\u001b[0m\u001b[1;33m\u001b[0m\u001b[0m\n\u001b[0;32m   1801\u001b[0m \u001b[1;33m\u001b[0m\u001b[0m\n",
      "\u001b[1;32mc:\\users\\29146\\appdata\\local\\programs\\python\\python37\\lib\\site-packages\\pandas\\core\\indexing.py\u001b[0m in \u001b[0;36m_getbool_axis\u001b[1;34m(self, key, axis)\u001b[0m\n\u001b[0;32m   1436\u001b[0m         \u001b[1;31m# caller is responsible for ensuring non-None axis\u001b[0m\u001b[1;33m\u001b[0m\u001b[1;33m\u001b[0m\u001b[1;33m\u001b[0m\u001b[0m\n\u001b[0;32m   1437\u001b[0m         \u001b[0mlabels\u001b[0m \u001b[1;33m=\u001b[0m \u001b[0mself\u001b[0m\u001b[1;33m.\u001b[0m\u001b[0mobj\u001b[0m\u001b[1;33m.\u001b[0m\u001b[0m_get_axis\u001b[0m\u001b[1;33m(\u001b[0m\u001b[0maxis\u001b[0m\u001b[1;33m)\u001b[0m\u001b[1;33m\u001b[0m\u001b[1;33m\u001b[0m\u001b[0m\n\u001b[1;32m-> 1438\u001b[1;33m         \u001b[0mkey\u001b[0m \u001b[1;33m=\u001b[0m \u001b[0mcheck_bool_indexer\u001b[0m\u001b[1;33m(\u001b[0m\u001b[0mlabels\u001b[0m\u001b[1;33m,\u001b[0m \u001b[0mkey\u001b[0m\u001b[1;33m)\u001b[0m\u001b[1;33m\u001b[0m\u001b[1;33m\u001b[0m\u001b[0m\n\u001b[0m\u001b[0;32m   1439\u001b[0m         \u001b[0minds\u001b[0m\u001b[1;33m,\u001b[0m \u001b[1;33m=\u001b[0m \u001b[0mkey\u001b[0m\u001b[1;33m.\u001b[0m\u001b[0mnonzero\u001b[0m\u001b[1;33m(\u001b[0m\u001b[1;33m)\u001b[0m\u001b[1;33m\u001b[0m\u001b[1;33m\u001b[0m\u001b[0m\n\u001b[0;32m   1440\u001b[0m         \u001b[1;32mtry\u001b[0m\u001b[1;33m:\u001b[0m\u001b[1;33m\u001b[0m\u001b[1;33m\u001b[0m\u001b[0m\n",
      "\u001b[1;32mc:\\users\\29146\\appdata\\local\\programs\\python\\python37\\lib\\site-packages\\pandas\\core\\indexing.py\u001b[0m in \u001b[0;36mcheck_bool_indexer\u001b[1;34m(index, key)\u001b[0m\n\u001b[0;32m   2422\u001b[0m         \u001b[1;32mif\u001b[0m \u001b[0mlen\u001b[0m\u001b[1;33m(\u001b[0m\u001b[0mresult\u001b[0m\u001b[1;33m)\u001b[0m \u001b[1;33m!=\u001b[0m \u001b[0mlen\u001b[0m\u001b[1;33m(\u001b[0m\u001b[0mindex\u001b[0m\u001b[1;33m)\u001b[0m\u001b[1;33m:\u001b[0m\u001b[1;33m\u001b[0m\u001b[1;33m\u001b[0m\u001b[0m\n\u001b[0;32m   2423\u001b[0m             raise IndexError(\n\u001b[1;32m-> 2424\u001b[1;33m                 \u001b[1;34m\"Item wrong length {} instead of {}.\"\u001b[0m\u001b[1;33m.\u001b[0m\u001b[0mformat\u001b[0m\u001b[1;33m(\u001b[0m\u001b[0mlen\u001b[0m\u001b[1;33m(\u001b[0m\u001b[0mresult\u001b[0m\u001b[1;33m)\u001b[0m\u001b[1;33m,\u001b[0m \u001b[0mlen\u001b[0m\u001b[1;33m(\u001b[0m\u001b[0mindex\u001b[0m\u001b[1;33m)\u001b[0m\u001b[1;33m)\u001b[0m\u001b[1;33m\u001b[0m\u001b[1;33m\u001b[0m\u001b[0m\n\u001b[0m\u001b[0;32m   2425\u001b[0m             )\n\u001b[0;32m   2426\u001b[0m \u001b[1;33m\u001b[0m\u001b[0m\n",
      "\u001b[1;31mIndexError\u001b[0m: Item wrong length 9 instead of 8."
     ],
     "output_type": "error"
    }
   ],
   "source": [
    "print(df.loc[df['Math']>60,(df[:8]['Address']=='street_6').values].head())\n",
    "\n",
    "df.loc[df['Math']>60,(df[:9]['Address']=='street_6').values].head()\n",
    "##如果不加values就会索引对齐发生错误，Pandas中的索引对齐是一个重要特征，很多时候非常使用\n",
    "#但是若不加以留意，就会埋下隐患"
   ]
  },
  {
   "cell_type": "code",
   "execution_count": 139,
   "metadata": {},
   "outputs": [
    {
     "name": "stdout",
     "output_type": "stream",
     "text": [
      "[False False False False False False False  True]\nID\n1101    False\n1102    False\n1103     True\n1104     True\n1105     True\n1201     True\n1202     True\n1203    False\n1204    False\n1205     True\n1301    False\n1302     True\n1303    False\n1304     True\n1305     True\n2101     True\n2102    False\n2103    False\n2104     True\n2105    False\n2201    False\n2202     True\n2203     True\n2204    False\n2205     True\n2301     True\n2302    False\n2303     True\n2304     True\n2305    False\n2401    False\n2402    False\n2403    False\n2404     True\n2405    False\nName: Math, dtype: bool\n"
     ]
    }
   ],
   "source": [
    "print((df[:8]['Address']=='street_6').values)#列\n",
    "print(df['Math']>60)#行\n",
    "#返回列为true，行为true的"
   ]
  },
  {
   "cell_type": "markdown",
   "metadata": {},
   "source": [
    "#没有索引对齐的反例子"
   ]
  },
  {
   "cell_type": "code",
   "execution_count": 140,
   "metadata": {},
   "outputs": [
    {
     "ename": "IndexingError",
     "evalue": "Unalignable boolean Series provided as indexer (index of the boolean Series and of the indexed object do not match).",
     "traceback": [
      "\u001b[1;31m---------------------------------------------------------------------------\u001b[0m",
      "\u001b[1;31mIndexingError\u001b[0m                             Traceback (most recent call last)",
      "\u001b[1;32m<ipython-input-140-70537aaefbe6>\u001b[0m in \u001b[0;36m<module>\u001b[1;34m\u001b[0m\n\u001b[1;32m----> 1\u001b[1;33m \u001b[0mdf\u001b[0m\u001b[1;33m.\u001b[0m\u001b[0mloc\u001b[0m\u001b[1;33m[\u001b[0m\u001b[0mdf\u001b[0m\u001b[1;33m[\u001b[0m\u001b[1;34m'Math'\u001b[0m\u001b[1;33m]\u001b[0m\u001b[1;33m>\u001b[0m\u001b[1;36m60\u001b[0m\u001b[1;33m,\u001b[0m\u001b[1;33m(\u001b[0m\u001b[0mdf\u001b[0m\u001b[1;33m[\u001b[0m\u001b[1;33m:\u001b[0m\u001b[1;36m8\u001b[0m\u001b[1;33m]\u001b[0m\u001b[1;33m[\u001b[0m\u001b[1;34m'Address'\u001b[0m\u001b[1;33m]\u001b[0m\u001b[1;33m==\u001b[0m\u001b[1;34m'street_6'\u001b[0m\u001b[1;33m)\u001b[0m\u001b[1;33m]\u001b[0m\u001b[1;33m.\u001b[0m\u001b[0mhead\u001b[0m\u001b[1;33m(\u001b[0m\u001b[1;33m)\u001b[0m\u001b[1;33m\u001b[0m\u001b[1;33m\u001b[0m\u001b[0m\n\u001b[0m",
      "\u001b[1;32mc:\\users\\29146\\appdata\\local\\programs\\python\\python37\\lib\\site-packages\\pandas\\core\\indexing.py\u001b[0m in \u001b[0;36m__getitem__\u001b[1;34m(self, key)\u001b[0m\n\u001b[0;32m   1416\u001b[0m                 \u001b[1;32mexcept\u001b[0m \u001b[1;33m(\u001b[0m\u001b[0mKeyError\u001b[0m\u001b[1;33m,\u001b[0m \u001b[0mIndexError\u001b[0m\u001b[1;33m,\u001b[0m \u001b[0mAttributeError\u001b[0m\u001b[1;33m)\u001b[0m\u001b[1;33m:\u001b[0m\u001b[1;33m\u001b[0m\u001b[1;33m\u001b[0m\u001b[0m\n\u001b[0;32m   1417\u001b[0m                     \u001b[1;32mpass\u001b[0m\u001b[1;33m\u001b[0m\u001b[1;33m\u001b[0m\u001b[0m\n\u001b[1;32m-> 1418\u001b[1;33m             \u001b[1;32mreturn\u001b[0m \u001b[0mself\u001b[0m\u001b[1;33m.\u001b[0m\u001b[0m_getitem_tuple\u001b[0m\u001b[1;33m(\u001b[0m\u001b[0mkey\u001b[0m\u001b[1;33m)\u001b[0m\u001b[1;33m\u001b[0m\u001b[1;33m\u001b[0m\u001b[0m\n\u001b[0m\u001b[0;32m   1419\u001b[0m         \u001b[1;32melse\u001b[0m\u001b[1;33m:\u001b[0m\u001b[1;33m\u001b[0m\u001b[1;33m\u001b[0m\u001b[0m\n\u001b[0;32m   1420\u001b[0m             \u001b[1;31m# we by definition only have the 0th axis\u001b[0m\u001b[1;33m\u001b[0m\u001b[1;33m\u001b[0m\u001b[1;33m\u001b[0m\u001b[0m\n",
      "\u001b[1;32mc:\\users\\29146\\appdata\\local\\programs\\python\\python37\\lib\\site-packages\\pandas\\core\\indexing.py\u001b[0m in \u001b[0;36m_getitem_tuple\u001b[1;34m(self, tup)\u001b[0m\n\u001b[0;32m    820\u001b[0m                 \u001b[1;32mcontinue\u001b[0m\u001b[1;33m\u001b[0m\u001b[1;33m\u001b[0m\u001b[0m\n\u001b[0;32m    821\u001b[0m \u001b[1;33m\u001b[0m\u001b[0m\n\u001b[1;32m--> 822\u001b[1;33m             \u001b[0mretval\u001b[0m \u001b[1;33m=\u001b[0m \u001b[0mgetattr\u001b[0m\u001b[1;33m(\u001b[0m\u001b[0mretval\u001b[0m\u001b[1;33m,\u001b[0m \u001b[0mself\u001b[0m\u001b[1;33m.\u001b[0m\u001b[0mname\u001b[0m\u001b[1;33m)\u001b[0m\u001b[1;33m.\u001b[0m\u001b[0m_getitem_axis\u001b[0m\u001b[1;33m(\u001b[0m\u001b[0mkey\u001b[0m\u001b[1;33m,\u001b[0m \u001b[0maxis\u001b[0m\u001b[1;33m=\u001b[0m\u001b[0mi\u001b[0m\u001b[1;33m)\u001b[0m\u001b[1;33m\u001b[0m\u001b[1;33m\u001b[0m\u001b[0m\n\u001b[0m\u001b[0;32m    823\u001b[0m \u001b[1;33m\u001b[0m\u001b[0m\n\u001b[0;32m    824\u001b[0m         \u001b[1;32mreturn\u001b[0m \u001b[0mretval\u001b[0m\u001b[1;33m\u001b[0m\u001b[1;33m\u001b[0m\u001b[0m\n",
      "\u001b[1;32mc:\\users\\29146\\appdata\\local\\programs\\python\\python37\\lib\\site-packages\\pandas\\core\\indexing.py\u001b[0m in \u001b[0;36m_getitem_axis\u001b[1;34m(self, key, axis)\u001b[0m\n\u001b[0;32m   1797\u001b[0m             \u001b[1;32mreturn\u001b[0m \u001b[0mself\u001b[0m\u001b[1;33m.\u001b[0m\u001b[0m_get_slice_axis\u001b[0m\u001b[1;33m(\u001b[0m\u001b[0mkey\u001b[0m\u001b[1;33m,\u001b[0m \u001b[0maxis\u001b[0m\u001b[1;33m=\u001b[0m\u001b[0maxis\u001b[0m\u001b[1;33m)\u001b[0m\u001b[1;33m\u001b[0m\u001b[1;33m\u001b[0m\u001b[0m\n\u001b[0;32m   1798\u001b[0m         \u001b[1;32melif\u001b[0m \u001b[0mcom\u001b[0m\u001b[1;33m.\u001b[0m\u001b[0mis_bool_indexer\u001b[0m\u001b[1;33m(\u001b[0m\u001b[0mkey\u001b[0m\u001b[1;33m)\u001b[0m\u001b[1;33m:\u001b[0m\u001b[1;33m\u001b[0m\u001b[1;33m\u001b[0m\u001b[0m\n\u001b[1;32m-> 1799\u001b[1;33m             \u001b[1;32mreturn\u001b[0m \u001b[0mself\u001b[0m\u001b[1;33m.\u001b[0m\u001b[0m_getbool_axis\u001b[0m\u001b[1;33m(\u001b[0m\u001b[0mkey\u001b[0m\u001b[1;33m,\u001b[0m \u001b[0maxis\u001b[0m\u001b[1;33m=\u001b[0m\u001b[0maxis\u001b[0m\u001b[1;33m)\u001b[0m\u001b[1;33m\u001b[0m\u001b[1;33m\u001b[0m\u001b[0m\n\u001b[0m\u001b[0;32m   1800\u001b[0m         \u001b[1;32melif\u001b[0m \u001b[0mis_list_like_indexer\u001b[0m\u001b[1;33m(\u001b[0m\u001b[0mkey\u001b[0m\u001b[1;33m)\u001b[0m\u001b[1;33m:\u001b[0m\u001b[1;33m\u001b[0m\u001b[1;33m\u001b[0m\u001b[0m\n\u001b[0;32m   1801\u001b[0m \u001b[1;33m\u001b[0m\u001b[0m\n",
      "\u001b[1;32mc:\\users\\29146\\appdata\\local\\programs\\python\\python37\\lib\\site-packages\\pandas\\core\\indexing.py\u001b[0m in \u001b[0;36m_getbool_axis\u001b[1;34m(self, key, axis)\u001b[0m\n\u001b[0;32m   1436\u001b[0m         \u001b[1;31m# caller is responsible for ensuring non-None axis\u001b[0m\u001b[1;33m\u001b[0m\u001b[1;33m\u001b[0m\u001b[1;33m\u001b[0m\u001b[0m\n\u001b[0;32m   1437\u001b[0m         \u001b[0mlabels\u001b[0m \u001b[1;33m=\u001b[0m \u001b[0mself\u001b[0m\u001b[1;33m.\u001b[0m\u001b[0mobj\u001b[0m\u001b[1;33m.\u001b[0m\u001b[0m_get_axis\u001b[0m\u001b[1;33m(\u001b[0m\u001b[0maxis\u001b[0m\u001b[1;33m)\u001b[0m\u001b[1;33m\u001b[0m\u001b[1;33m\u001b[0m\u001b[0m\n\u001b[1;32m-> 1438\u001b[1;33m         \u001b[0mkey\u001b[0m \u001b[1;33m=\u001b[0m \u001b[0mcheck_bool_indexer\u001b[0m\u001b[1;33m(\u001b[0m\u001b[0mlabels\u001b[0m\u001b[1;33m,\u001b[0m \u001b[0mkey\u001b[0m\u001b[1;33m)\u001b[0m\u001b[1;33m\u001b[0m\u001b[1;33m\u001b[0m\u001b[0m\n\u001b[0m\u001b[0;32m   1439\u001b[0m         \u001b[0minds\u001b[0m\u001b[1;33m,\u001b[0m \u001b[1;33m=\u001b[0m \u001b[0mkey\u001b[0m\u001b[1;33m.\u001b[0m\u001b[0mnonzero\u001b[0m\u001b[1;33m(\u001b[0m\u001b[1;33m)\u001b[0m\u001b[1;33m\u001b[0m\u001b[1;33m\u001b[0m\u001b[0m\n\u001b[0;32m   1440\u001b[0m         \u001b[1;32mtry\u001b[0m\u001b[1;33m:\u001b[0m\u001b[1;33m\u001b[0m\u001b[1;33m\u001b[0m\u001b[0m\n",
      "\u001b[1;32mc:\\users\\29146\\appdata\\local\\programs\\python\\python37\\lib\\site-packages\\pandas\\core\\indexing.py\u001b[0m in \u001b[0;36mcheck_bool_indexer\u001b[1;34m(index, key)\u001b[0m\n\u001b[0;32m   2409\u001b[0m         \u001b[1;32mif\u001b[0m \u001b[0mmask\u001b[0m\u001b[1;33m.\u001b[0m\u001b[0many\u001b[0m\u001b[1;33m(\u001b[0m\u001b[1;33m)\u001b[0m\u001b[1;33m:\u001b[0m\u001b[1;33m\u001b[0m\u001b[1;33m\u001b[0m\u001b[0m\n\u001b[0;32m   2410\u001b[0m             raise IndexingError(\n\u001b[1;32m-> 2411\u001b[1;33m                 \u001b[1;34m\"Unalignable boolean Series provided as \"\u001b[0m\u001b[1;33m\u001b[0m\u001b[1;33m\u001b[0m\u001b[0m\n\u001b[0m\u001b[0;32m   2412\u001b[0m                 \u001b[1;34m\"indexer (index of the boolean Series and of \"\u001b[0m\u001b[1;33m\u001b[0m\u001b[1;33m\u001b[0m\u001b[0m\n\u001b[0;32m   2413\u001b[0m                 \u001b[1;34m\"the indexed object do not match).\"\u001b[0m\u001b[1;33m\u001b[0m\u001b[1;33m\u001b[0m\u001b[0m\n",
      "\u001b[1;31mIndexingError\u001b[0m: Unalignable boolean Series provided as indexer (index of the boolean Series and of the indexed object do not match)."
     ],
     "output_type": "error"
    }
   ],
   "source": [
    "df.loc[df['Math']>60,(df[:8]['Address']=='street_6')].head()"
   ]
  },
  {
   "cell_type": "markdown",
   "metadata": {},
   "source": [
    "##b) isin 方法（用于选取DataFrame指定列）"
   ]
  },
  {
   "cell_type": "code",
   "execution_count": 141,
   "metadata": {},
   "outputs": [
    {
     "name": "stdout",
     "output_type": "stream",
     "text": [
      "     School Class Gender   Address  Height  Weight  Math Physics\nID                                                              \n1101    S_1   C_1      M  street_1     173      63  34.0      A+\n2105    S_2   C_1      M  street_4     170      81  34.2       A\n2203    S_2   C_2      M  street_4     155      91  73.8      A+\n"
     ]
    }
   ],
   "source": [
    "print(df[df['Address'].isin(['street_1','street_4'])&df['Physics'].isin(['A','A+'])])"
   ]
  },
  {
   "cell_type": "code",
   "execution_count": 142,
   "metadata": {},
   "outputs": [
    {
     "name": "stdout",
     "output_type": "stream",
     "text": [
      "     School Class Gender   Address  Height  Weight  Math Physics\nID                                                              \n1101    S_1   C_1      M  street_1     173      63  34.0      A+\n2105    S_2   C_1      M  street_4     170      81  34.2       A\n2203    S_2   C_2      M  street_4     155      91  73.8      A+\n"
     ]
    }
   ],
   "source": [
    "#字典形式改写上面程序\n",
    "print(df[df[['Address','Physics']].isin({'Address':['street_1','street_4'],'Physics':['A','A+']}).all(1)])"
   ]
  },
  {
   "cell_type": "markdown",
   "metadata": {},
   "source": [
    " #3.快速标量索引\n",
    "\n",
    "\t当只需要取一个元素时，at和iat方法能够提供更快的实现："
   ]
  },
  {
   "cell_type": "code",
   "execution_count": 144,
   "metadata": {
    "collapsed": true
   },
   "outputs": [
    {
     "data": {
      "text/plain": [
       "'S_1'"
      ]
     },
     "execution_count": 0,
     "metadata": {},
     "output_type": "execute_result"
    },
    {
     "data": {
      "text/plain": [
       "'S_1'"
      ]
     },
     "execution_count": 0,
     "metadata": {},
     "output_type": "execute_result"
    },
    {
     "data": {
      "text/plain": [
       "'S_1'"
      ]
     },
     "execution_count": 0,
     "metadata": {},
     "output_type": "execute_result"
    },
    {
     "data": {
      "text/plain": [
       "'S_1'"
      ]
     },
     "execution_count": 0,
     "metadata": {},
     "output_type": "execute_result"
    },
    {
     "name": "stdout",
     "output_type": "stream",
     "text": [
      "6.46 µs ± 605 ns per loop (mean ± std. dev. of 7 runs, 100000 loops each)\n"
     ]
    },
    {
     "name": "stdout",
     "output_type": "stream",
     "text": [
      "9.07 µs ± 300 ns per loop (mean ± std. dev. of 7 runs, 100000 loops each)\n"
     ]
    },
    {
     "name": "stdout",
     "output_type": "stream",
     "text": [
      "6.51 µs ± 335 ns per loop (mean ± std. dev. of 7 runs, 100000 loops each)\n"
     ]
    },
    {
     "name": "stdout",
     "output_type": "stream",
     "text": [
      "11.5 µs ± 1.08 µs per loop (mean ± std. dev. of 7 runs, 100000 loops each)\n"
     ]
    }
   ],
   "source": [
    "display(df.at[1101,'School'])\n",
    "display(df.loc[1101,'School'])\n",
    "display(df.iat[0,0])\n",
    "display(df.iloc[0,0])\n",
    "%timeit df.at[1101,'School']\n",
    "%timeit df.loc[1101,'School']\n",
    "%timeit df.iat[0,0]\n",
    "%timeit df.iloc[0,0]"
   ]
  },
  {
   "cell_type": "markdown",
   "metadata": {},
   "source": [
    "4.区间索引"
   ]
  },
  {
   "cell_type": "markdown",
   "metadata": {},
   "source": [
    "此处介绍并不是说只能在单级索引中使用区间索引，只是作为一种特殊类型的索引方式，在此处先行介绍"
   ]
  },
  {
   "cell_type": "markdown",
   "metadata": {},
   "source": [
    "（a）利用interval_range方法"
   ]
  },
  {
   "cell_type": "code",
   "execution_count": 146,
   "metadata": {},
   "outputs": [
    {
     "data": {
      "text/plain": [
       "IntervalIndex([(0, 1], (1, 2], (2, 3], (3, 4], (4, 5]],\n              closed='right',\n              dtype='interval[int64]')"
      ]
     },
     "execution_count": 146,
     "metadata": {},
     "output_type": "execute_result"
    }
   ],
   "source": [
    "pd.interval_range(start=0,end=5)\n",
    "# closed参数可选'left','right','both','neither',默认左开右闭"
   ]
  },
  {
   "cell_type": "code",
   "execution_count": 149,
   "metadata": {},
   "outputs": [
    {
     "data": {
      "text/plain": [
       "IntervalIndex([(0, 5], (5, 10], (10, 15], (15, 20], (20, 25], (25, 30], (30, 35], (35, 40]],\n              closed='right',\n              dtype='interval[int64]')"
      ]
     },
     "execution_count": 149,
     "metadata": {},
     "output_type": "execute_result"
    }
   ],
   "source": [
    "pd.interval_range(start=0,periods=8,freq=5)\n",
    "# period参数控制区间个数，freq控制步长"
   ]
  },
  {
   "cell_type": "markdown",
   "metadata": {},
   "source": [
    "（b）利用cut将数值列转为区间为元素的分类变量，例如统计数学成绩的区间情况："
   ]
  },
  {
   "cell_type": "code",
   "execution_count": 151,
   "metadata": {},
   "outputs": [
    {
     "name": "stdout",
     "output_type": "stream",
     "text": [
      "ID\n1101      (0, 40]\n1102      (0, 40]\n1103    (80, 100]\n1104    (80, 100]\n1105    (80, 100]\n1201    (80, 100]\n1202     (60, 80]\n1203     (40, 60]\n1204      (0, 40]\n1205     (60, 80]\n1301      (0, 40]\n1302    (80, 100]\n1303     (40, 60]\n1304    (80, 100]\n1305     (60, 80]\n2101    (80, 100]\n2102     (40, 60]\n2103     (40, 60]\n2104     (60, 80]\n2105      (0, 40]\n2201      (0, 40]\n2202     (60, 80]\n2203     (60, 80]\n2204     (40, 60]\n2205    (80, 100]\n2301     (60, 80]\n2302      (0, 40]\n2303     (60, 80]\n2304    (80, 100]\n2305     (40, 60]\n2401     (40, 60]\n2402     (40, 60]\n2403     (40, 60]\n2404     (60, 80]\n2405     (40, 60]\nName: Math, dtype: category\nCategories (4, interval[int64]): [(0, 40] < (40, 60] < (60, 80] < (80, 100]]\n"
     ]
    }
   ],
   "source": [
    "math_interval = pd.cut(df['Math'],bins=[0,40,60,80,100])\n",
    "print(math_interval)"
   ]
  },
  {
   "cell_type": "markdown",
   "metadata": {},
   "source": [
    "（c）区间索引的选取"
   ]
  },
  {
   "cell_type": "code",
   "execution_count": 152,
   "metadata": {},
   "outputs": [
    {
     "data": {
      "text/html": [
       "<div>\n",
       "<style scoped>\n",
       "    .dataframe tbody tr th:only-of-type {\n",
       "        vertical-align: middle;\n",
       "    }\n",
       "\n",
       "    .dataframe tbody tr th {\n",
       "        vertical-align: top;\n",
       "    }\n",
       "\n",
       "    .dataframe thead th {\n",
       "        text-align: right;\n",
       "    }\n",
       "</style>\n",
       "<table border=\"1\" class=\"dataframe\">\n",
       "  <thead>\n",
       "    <tr style=\"text-align: right;\">\n",
       "      <th></th>\n",
       "      <th>ID</th>\n",
       "      <th>Math</th>\n",
       "    </tr>\n",
       "    <tr>\n",
       "      <th>Math_interval</th>\n",
       "      <th></th>\n",
       "      <th></th>\n",
       "    </tr>\n",
       "  </thead>\n",
       "  <tbody>\n",
       "    <tr>\n",
       "      <td>(0, 40]</td>\n",
       "      <td>1101</td>\n",
       "      <td>34.0</td>\n",
       "    </tr>\n",
       "    <tr>\n",
       "      <td>(0, 40]</td>\n",
       "      <td>1102</td>\n",
       "      <td>32.5</td>\n",
       "    </tr>\n",
       "    <tr>\n",
       "      <td>(80, 100]</td>\n",
       "      <td>1103</td>\n",
       "      <td>87.2</td>\n",
       "    </tr>\n",
       "    <tr>\n",
       "      <td>(80, 100]</td>\n",
       "      <td>1104</td>\n",
       "      <td>80.4</td>\n",
       "    </tr>\n",
       "    <tr>\n",
       "      <td>(80, 100]</td>\n",
       "      <td>1105</td>\n",
       "      <td>84.8</td>\n",
       "    </tr>\n",
       "  </tbody>\n",
       "</table>\n",
       "</div>"
      ],
      "text/plain": [
       "<div>\n",
       "<style scoped>\n",
       "    .dataframe tbody tr th:only-of-type {\n",
       "        vertical-align: middle;\n",
       "    }\n",
       "\n",
       "    .dataframe tbody tr th {\n",
       "        vertical-align: top;\n",
       "    }\n",
       "\n",
       "    .dataframe thead th {\n",
       "        text-align: right;\n",
       "    }\n",
       "</style>\n",
       "<table border=\"1\" class=\"dataframe\">\n",
       "  <thead>\n",
       "    <tr style=\"text-align: right;\">\n",
       "      <th></th>\n",
       "      <th>ID</th>\n",
       "      <th>Math</th>\n",
       "    </tr>\n",
       "    <tr>\n",
       "      <th>Math_interval</th>\n",
       "      <th></th>\n",
       "      <th></th>\n",
       "    </tr>\n",
       "  </thead>\n",
       "  <tbody>\n",
       "    <tr>\n",
       "      <td>(0, 40]</td>\n",
       "      <td>1101</td>\n",
       "      <td>34.0</td>\n",
       "    </tr>\n",
       "    <tr>\n",
       "      <td>(0, 40]</td>\n",
       "      <td>1102</td>\n",
       "      <td>32.5</td>\n",
       "    </tr>\n",
       "    <tr>\n",
       "      <td>(80, 100]</td>\n",
       "      <td>1103</td>\n",
       "      <td>87.2</td>\n",
       "    </tr>\n",
       "    <tr>\n",
       "      <td>(80, 100]</td>\n",
       "      <td>1104</td>\n",
       "      <td>80.4</td>\n",
       "    </tr>\n",
       "    <tr>\n",
       "      <td>(80, 100]</td>\n",
       "      <td>1105</td>\n",
       "      <td>84.8</td>\n",
       "    </tr>\n",
       "  </tbody>\n",
       "</table>\n",
       "</div>"
      ]
     },
     "execution_count": 152,
     "metadata": {},
     "output_type": "execute_result"
    }
   ],
   "source": [
    "df_i = df.join(math_interval,rsuffix='_interval')[['Math','Math_interval']]\\\n",
    "    .reset_index().set_index('Math_interval')\n",
    "df_i.head()"
   ]
  },
  {
   "cell_type": "code",
   "execution_count": 154,
   "metadata": {},
   "outputs": [
    {
     "data": {
      "text/html": [
       "<div>\n",
       "<style scoped>\n",
       "    .dataframe tbody tr th:only-of-type {\n",
       "        vertical-align: middle;\n",
       "    }\n",
       "\n",
       "    .dataframe tbody tr th {\n",
       "        vertical-align: top;\n",
       "    }\n",
       "\n",
       "    .dataframe thead th {\n",
       "        text-align: right;\n",
       "    }\n",
       "</style>\n",
       "<table border=\"1\" class=\"dataframe\">\n",
       "  <thead>\n",
       "    <tr style=\"text-align: right;\">\n",
       "      <th></th>\n",
       "      <th>ID</th>\n",
       "      <th>Math</th>\n",
       "    </tr>\n",
       "    <tr>\n",
       "      <th>Math_interval</th>\n",
       "      <th></th>\n",
       "      <th></th>\n",
       "    </tr>\n",
       "  </thead>\n",
       "  <tbody>\n",
       "    <tr>\n",
       "      <td>(60, 80]</td>\n",
       "      <td>1202</td>\n",
       "      <td>63.5</td>\n",
       "    </tr>\n",
       "    <tr>\n",
       "      <td>(60, 80]</td>\n",
       "      <td>1205</td>\n",
       "      <td>68.4</td>\n",
       "    </tr>\n",
       "    <tr>\n",
       "      <td>(60, 80]</td>\n",
       "      <td>1305</td>\n",
       "      <td>61.7</td>\n",
       "    </tr>\n",
       "    <tr>\n",
       "      <td>(60, 80]</td>\n",
       "      <td>2104</td>\n",
       "      <td>72.2</td>\n",
       "    </tr>\n",
       "    <tr>\n",
       "      <td>(60, 80]</td>\n",
       "      <td>2202</td>\n",
       "      <td>68.5</td>\n",
       "    </tr>\n",
       "  </tbody>\n",
       "</table>\n",
       "</div>"
      ],
      "text/plain": [
       "<div>\n",
       "<style scoped>\n",
       "    .dataframe tbody tr th:only-of-type {\n",
       "        vertical-align: middle;\n",
       "    }\n",
       "\n",
       "    .dataframe tbody tr th {\n",
       "        vertical-align: top;\n",
       "    }\n",
       "\n",
       "    .dataframe thead th {\n",
       "        text-align: right;\n",
       "    }\n",
       "</style>\n",
       "<table border=\"1\" class=\"dataframe\">\n",
       "  <thead>\n",
       "    <tr style=\"text-align: right;\">\n",
       "      <th></th>\n",
       "      <th>ID</th>\n",
       "      <th>Math</th>\n",
       "    </tr>\n",
       "    <tr>\n",
       "      <th>Math_interval</th>\n",
       "      <th></th>\n",
       "      <th></th>\n",
       "    </tr>\n",
       "  </thead>\n",
       "  <tbody>\n",
       "    <tr>\n",
       "      <td>(60, 80]</td>\n",
       "      <td>1202</td>\n",
       "      <td>63.5</td>\n",
       "    </tr>\n",
       "    <tr>\n",
       "      <td>(60, 80]</td>\n",
       "      <td>1205</td>\n",
       "      <td>68.4</td>\n",
       "    </tr>\n",
       "    <tr>\n",
       "      <td>(60, 80]</td>\n",
       "      <td>1305</td>\n",
       "      <td>61.7</td>\n",
       "    </tr>\n",
       "    <tr>\n",
       "      <td>(60, 80]</td>\n",
       "      <td>2104</td>\n",
       "      <td>72.2</td>\n",
       "    </tr>\n",
       "    <tr>\n",
       "      <td>(60, 80]</td>\n",
       "      <td>2202</td>\n",
       "      <td>68.5</td>\n",
       "    </tr>\n",
       "  </tbody>\n",
       "</table>\n",
       "</div>"
      ]
     },
     "execution_count": 154,
     "metadata": {},
     "output_type": "execute_result"
    }
   ],
   "source": [
    "df_i.loc[65].head()\n",
    "#包含该值会被选中"
   ]
  },
  {
   "cell_type": "code",
   "execution_count": 155,
   "metadata": {},
   "outputs": [
    {
     "data": {
      "text/html": [
       "<div>\n",
       "<style scoped>\n",
       "    .dataframe tbody tr th:only-of-type {\n",
       "        vertical-align: middle;\n",
       "    }\n",
       "\n",
       "    .dataframe tbody tr th {\n",
       "        vertical-align: top;\n",
       "    }\n",
       "\n",
       "    .dataframe thead th {\n",
       "        text-align: right;\n",
       "    }\n",
       "</style>\n",
       "<table border=\"1\" class=\"dataframe\">\n",
       "  <thead>\n",
       "    <tr style=\"text-align: right;\">\n",
       "      <th></th>\n",
       "      <th>ID</th>\n",
       "      <th>Math</th>\n",
       "    </tr>\n",
       "    <tr>\n",
       "      <th>Math_interval</th>\n",
       "      <th></th>\n",
       "      <th></th>\n",
       "    </tr>\n",
       "  </thead>\n",
       "  <tbody>\n",
       "    <tr>\n",
       "      <td>(60, 80]</td>\n",
       "      <td>1202</td>\n",
       "      <td>63.5</td>\n",
       "    </tr>\n",
       "    <tr>\n",
       "      <td>(60, 80]</td>\n",
       "      <td>1205</td>\n",
       "      <td>68.4</td>\n",
       "    </tr>\n",
       "    <tr>\n",
       "      <td>(60, 80]</td>\n",
       "      <td>1305</td>\n",
       "      <td>61.7</td>\n",
       "    </tr>\n",
       "    <tr>\n",
       "      <td>(60, 80]</td>\n",
       "      <td>2104</td>\n",
       "      <td>72.2</td>\n",
       "    </tr>\n",
       "    <tr>\n",
       "      <td>(60, 80]</td>\n",
       "      <td>2202</td>\n",
       "      <td>68.5</td>\n",
       "    </tr>\n",
       "  </tbody>\n",
       "</table>\n",
       "</div>"
      ],
      "text/plain": [
       "<div>\n",
       "<style scoped>\n",
       "    .dataframe tbody tr th:only-of-type {\n",
       "        vertical-align: middle;\n",
       "    }\n",
       "\n",
       "    .dataframe tbody tr th {\n",
       "        vertical-align: top;\n",
       "    }\n",
       "\n",
       "    .dataframe thead th {\n",
       "        text-align: right;\n",
       "    }\n",
       "</style>\n",
       "<table border=\"1\" class=\"dataframe\">\n",
       "  <thead>\n",
       "    <tr style=\"text-align: right;\">\n",
       "      <th></th>\n",
       "      <th>ID</th>\n",
       "      <th>Math</th>\n",
       "    </tr>\n",
       "    <tr>\n",
       "      <th>Math_interval</th>\n",
       "      <th></th>\n",
       "      <th></th>\n",
       "    </tr>\n",
       "  </thead>\n",
       "  <tbody>\n",
       "    <tr>\n",
       "      <td>(60, 80]</td>\n",
       "      <td>1202</td>\n",
       "      <td>63.5</td>\n",
       "    </tr>\n",
       "    <tr>\n",
       "      <td>(60, 80]</td>\n",
       "      <td>1205</td>\n",
       "      <td>68.4</td>\n",
       "    </tr>\n",
       "    <tr>\n",
       "      <td>(60, 80]</td>\n",
       "      <td>1305</td>\n",
       "      <td>61.7</td>\n",
       "    </tr>\n",
       "    <tr>\n",
       "      <td>(60, 80]</td>\n",
       "      <td>2104</td>\n",
       "      <td>72.2</td>\n",
       "    </tr>\n",
       "    <tr>\n",
       "      <td>(60, 80]</td>\n",
       "      <td>2202</td>\n",
       "      <td>68.5</td>\n",
       "    </tr>\n",
       "  </tbody>\n",
       "</table>\n",
       "</div>"
      ]
     },
     "execution_count": 155,
     "metadata": {},
     "output_type": "execute_result"
    }
   ],
   "source": [
    "df_i.loc[[65,90]].head()"
   ]
  },
  {
   "cell_type": "markdown",
   "metadata": {},
   "source": [
    "####上面的区间选择的是（60,80）\n",
    "\n",
    "#### 如果想要选取某个区间，先要把分类变量转为区间变量，再使用overlap方法："
   ]
  },
  {
   "cell_type": "code",
   "execution_count": 160,
   "metadata": {},
   "outputs": [
    {
     "name": "stdout",
     "output_type": "stream",
     "text": [
      "                 ID  Math\nMath_interval            \n(80, 100]      1103  87.2\n(80, 100]      1104  80.4\n(80, 100]      1105  84.8\n(80, 100]      1201  97.0\n(60, 80]       1202  63.5\n(60, 80]       1205  68.4\n(80, 100]      1302  87.7\n(80, 100]      1304  85.2\n(60, 80]       1305  61.7\n(80, 100]      2101  83.3\n(60, 80]       2104  72.2\n(60, 80]       2202  68.5\n(60, 80]       2203  73.8\n(80, 100]      2205  85.4\n(60, 80]       2301  72.3\n(60, 80]       2303  65.9\n(80, 100]      2304  95.5\n(60, 80]       2404  67.7\n"
     ]
    }
   ],
   "source": [
    "#df_i.loc[pd.Interval(70,75)].head()报错为啥\n",
    "print(df_i[df_i.index.astype('interval').overlaps(pd.Interval(70,85))])\n",
    "#overlaps(重叠）\n",
    "#interval（区间）"
   ]
  },
  {
   "cell_type": "markdown",
   "metadata": {},
   "source": [
    "## 二、多级索引\n",
    "### 1. 创建多级索引\n",
    "#### （a）通过from_tuple或from_arrays\n",
    "#### ① 直接创建元组"
   ]
  },
  {
   "cell_type": "code",
   "execution_count": 161,
   "metadata": {},
   "outputs": [
    {
     "data": {
      "text/plain": [
       "MultiIndex([('A', 'a'),\n            ('A', 'b'),\n            ('B', 'a'),\n            ('B', 'b')],\n           names=['Upper', 'Lower'])"
      ]
     },
     "execution_count": 161,
     "metadata": {},
     "output_type": "execute_result"
    }
   ],
   "source": [
    "tuples = [('A','a'),('A','b'),('B','a'),('B','b')]\n",
    "mul_index = pd.MultiIndex.from_tuples(tuples,names=('Upper','Lower'))\n",
    "mul_index"
   ]
  },
  {
   "cell_type": "code",
   "execution_count": 162,
   "metadata": {},
   "outputs": [
    {
     "data": {
      "text/html": [
       "<div>\n",
       "<style scoped>\n",
       "    .dataframe tbody tr th:only-of-type {\n",
       "        vertical-align: middle;\n",
       "    }\n",
       "\n",
       "    .dataframe tbody tr th {\n",
       "        vertical-align: top;\n",
       "    }\n",
       "\n",
       "    .dataframe thead th {\n",
       "        text-align: right;\n",
       "    }\n",
       "</style>\n",
       "<table border=\"1\" class=\"dataframe\">\n",
       "  <thead>\n",
       "    <tr style=\"text-align: right;\">\n",
       "      <th></th>\n",
       "      <th></th>\n",
       "      <th>Score</th>\n",
       "    </tr>\n",
       "    <tr>\n",
       "      <th>Upper</th>\n",
       "      <th>Lower</th>\n",
       "      <th></th>\n",
       "    </tr>\n",
       "  </thead>\n",
       "  <tbody>\n",
       "    <tr>\n",
       "      <td rowspan=\"2\" valign=\"top\">A</td>\n",
       "      <td>a</td>\n",
       "      <td>perfect</td>\n",
       "    </tr>\n",
       "    <tr>\n",
       "      <td>b</td>\n",
       "      <td>good</td>\n",
       "    </tr>\n",
       "    <tr>\n",
       "      <td rowspan=\"2\" valign=\"top\">B</td>\n",
       "      <td>a</td>\n",
       "      <td>fair</td>\n",
       "    </tr>\n",
       "    <tr>\n",
       "      <td>b</td>\n",
       "      <td>bad</td>\n",
       "    </tr>\n",
       "  </tbody>\n",
       "</table>\n",
       "</div>"
      ],
      "text/plain": [
       "<div>\n",
       "<style scoped>\n",
       "    .dataframe tbody tr th:only-of-type {\n",
       "        vertical-align: middle;\n",
       "    }\n",
       "\n",
       "    .dataframe tbody tr th {\n",
       "        vertical-align: top;\n",
       "    }\n",
       "\n",
       "    .dataframe thead th {\n",
       "        text-align: right;\n",
       "    }\n",
       "</style>\n",
       "<table border=\"1\" class=\"dataframe\">\n",
       "  <thead>\n",
       "    <tr style=\"text-align: right;\">\n",
       "      <th></th>\n",
       "      <th></th>\n",
       "      <th>Score</th>\n",
       "    </tr>\n",
       "    <tr>\n",
       "      <th>Upper</th>\n",
       "      <th>Lower</th>\n",
       "      <th></th>\n",
       "    </tr>\n",
       "  </thead>\n",
       "  <tbody>\n",
       "    <tr>\n",
       "      <td rowspan=\"2\" valign=\"top\">A</td>\n",
       "      <td>a</td>\n",
       "      <td>perfect</td>\n",
       "    </tr>\n",
       "    <tr>\n",
       "      <td>b</td>\n",
       "      <td>good</td>\n",
       "    </tr>\n",
       "    <tr>\n",
       "      <td rowspan=\"2\" valign=\"top\">B</td>\n",
       "      <td>a</td>\n",
       "      <td>fair</td>\n",
       "    </tr>\n",
       "    <tr>\n",
       "      <td>b</td>\n",
       "      <td>bad</td>\n",
       "    </tr>\n",
       "  </tbody>\n",
       "</table>\n",
       "</div>"
      ]
     },
     "execution_count": 162,
     "metadata": {},
     "output_type": "execute_result"
    }
   ],
   "source": [
    "pd.DataFrame({'Score':['perfect','good','fair','bad']},index=mul_index)"
   ]
  },
  {
   "cell_type": "markdown",
   "metadata": {},
   "source": [
    "#### ② 利用zip创建元组"
   ]
  },
  {
   "cell_type": "code",
   "execution_count": 165,
   "metadata": {},
   "outputs": [
    {
     "name": "stdout",
     "output_type": "stream",
     "text": [
      "[('A', 'a'), ('A', 'b'), ('B', 'a'), ('B', 'b')]\n"
     ]
    },
    {
     "data": {
      "text/html": [
       "<div>\n",
       "<style scoped>\n",
       "    .dataframe tbody tr th:only-of-type {\n",
       "        vertical-align: middle;\n",
       "    }\n",
       "\n",
       "    .dataframe tbody tr th {\n",
       "        vertical-align: top;\n",
       "    }\n",
       "\n",
       "    .dataframe thead th {\n",
       "        text-align: right;\n",
       "    }\n",
       "</style>\n",
       "<table border=\"1\" class=\"dataframe\">\n",
       "  <thead>\n",
       "    <tr style=\"text-align: right;\">\n",
       "      <th></th>\n",
       "      <th></th>\n",
       "      <th>Score</th>\n",
       "    </tr>\n",
       "    <tr>\n",
       "      <th>Upper</th>\n",
       "      <th>Lower</th>\n",
       "      <th></th>\n",
       "    </tr>\n",
       "  </thead>\n",
       "  <tbody>\n",
       "    <tr>\n",
       "      <td rowspan=\"2\" valign=\"top\">A</td>\n",
       "      <td>a</td>\n",
       "      <td>perfect</td>\n",
       "    </tr>\n",
       "    <tr>\n",
       "      <td>b</td>\n",
       "      <td>good</td>\n",
       "    </tr>\n",
       "    <tr>\n",
       "      <td rowspan=\"2\" valign=\"top\">B</td>\n",
       "      <td>a</td>\n",
       "      <td>fair</td>\n",
       "    </tr>\n",
       "    <tr>\n",
       "      <td>b</td>\n",
       "      <td>bad</td>\n",
       "    </tr>\n",
       "  </tbody>\n",
       "</table>\n",
       "</div>"
      ],
      "text/plain": [
       "<div>\n",
       "<style scoped>\n",
       "    .dataframe tbody tr th:only-of-type {\n",
       "        vertical-align: middle;\n",
       "    }\n",
       "\n",
       "    .dataframe tbody tr th {\n",
       "        vertical-align: top;\n",
       "    }\n",
       "\n",
       "    .dataframe thead th {\n",
       "        text-align: right;\n",
       "    }\n",
       "</style>\n",
       "<table border=\"1\" class=\"dataframe\">\n",
       "  <thead>\n",
       "    <tr style=\"text-align: right;\">\n",
       "      <th></th>\n",
       "      <th></th>\n",
       "      <th>Score</th>\n",
       "    </tr>\n",
       "    <tr>\n",
       "      <th>Upper</th>\n",
       "      <th>Lower</th>\n",
       "      <th></th>\n",
       "    </tr>\n",
       "  </thead>\n",
       "  <tbody>\n",
       "    <tr>\n",
       "      <td rowspan=\"2\" valign=\"top\">A</td>\n",
       "      <td>a</td>\n",
       "      <td>perfect</td>\n",
       "    </tr>\n",
       "    <tr>\n",
       "      <td>b</td>\n",
       "      <td>good</td>\n",
       "    </tr>\n",
       "    <tr>\n",
       "      <td rowspan=\"2\" valign=\"top\">B</td>\n",
       "      <td>a</td>\n",
       "      <td>fair</td>\n",
       "    </tr>\n",
       "    <tr>\n",
       "      <td>b</td>\n",
       "      <td>bad</td>\n",
       "    </tr>\n",
       "  </tbody>\n",
       "</table>\n",
       "</div>"
      ]
     },
     "execution_count": 165,
     "metadata": {},
     "output_type": "execute_result"
    }
   ],
   "source": [
    "L1 =list('AABB')\n",
    "L2 = list('abab')\n",
    "tuples = list(zip(L1,L2))\n",
    "print(tuples)\n",
    "mul_index = pd.MultiIndex.from_tuples(tuples,names=('Upper','Lower'))\n",
    "pd.DataFrame({'Score':['perfect','good','fair','bad']},index=mul_index)"
   ]
  },
  {
   "cell_type": "markdown",
   "metadata": {},
   "source": [
    "#### 通过Array创建"
   ]
  },
  {
   "cell_type": "code",
   "execution_count": 166,
   "metadata": {},
   "outputs": [
    {
     "data": {
      "text/html": [
       "<div>\n",
       "<style scoped>\n",
       "    .dataframe tbody tr th:only-of-type {\n",
       "        vertical-align: middle;\n",
       "    }\n",
       "\n",
       "    .dataframe tbody tr th {\n",
       "        vertical-align: top;\n",
       "    }\n",
       "\n",
       "    .dataframe thead th {\n",
       "        text-align: right;\n",
       "    }\n",
       "</style>\n",
       "<table border=\"1\" class=\"dataframe\">\n",
       "  <thead>\n",
       "    <tr style=\"text-align: right;\">\n",
       "      <th></th>\n",
       "      <th></th>\n",
       "      <th>Score</th>\n",
       "    </tr>\n",
       "    <tr>\n",
       "      <th>Upper</th>\n",
       "      <th>Lower</th>\n",
       "      <th></th>\n",
       "    </tr>\n",
       "  </thead>\n",
       "  <tbody>\n",
       "    <tr>\n",
       "      <td rowspan=\"2\" valign=\"top\">A</td>\n",
       "      <td>a</td>\n",
       "      <td>perfect</td>\n",
       "    </tr>\n",
       "    <tr>\n",
       "      <td>b</td>\n",
       "      <td>good</td>\n",
       "    </tr>\n",
       "    <tr>\n",
       "      <td rowspan=\"2\" valign=\"top\">B</td>\n",
       "      <td>a</td>\n",
       "      <td>fair</td>\n",
       "    </tr>\n",
       "    <tr>\n",
       "      <td>b</td>\n",
       "      <td>bad</td>\n",
       "    </tr>\n",
       "  </tbody>\n",
       "</table>\n",
       "</div>"
      ],
      "text/plain": [
       "<div>\n",
       "<style scoped>\n",
       "    .dataframe tbody tr th:only-of-type {\n",
       "        vertical-align: middle;\n",
       "    }\n",
       "\n",
       "    .dataframe tbody tr th {\n",
       "        vertical-align: top;\n",
       "    }\n",
       "\n",
       "    .dataframe thead th {\n",
       "        text-align: right;\n",
       "    }\n",
       "</style>\n",
       "<table border=\"1\" class=\"dataframe\">\n",
       "  <thead>\n",
       "    <tr style=\"text-align: right;\">\n",
       "      <th></th>\n",
       "      <th></th>\n",
       "      <th>Score</th>\n",
       "    </tr>\n",
       "    <tr>\n",
       "      <th>Upper</th>\n",
       "      <th>Lower</th>\n",
       "      <th></th>\n",
       "    </tr>\n",
       "  </thead>\n",
       "  <tbody>\n",
       "    <tr>\n",
       "      <td rowspan=\"2\" valign=\"top\">A</td>\n",
       "      <td>a</td>\n",
       "      <td>perfect</td>\n",
       "    </tr>\n",
       "    <tr>\n",
       "      <td>b</td>\n",
       "      <td>good</td>\n",
       "    </tr>\n",
       "    <tr>\n",
       "      <td rowspan=\"2\" valign=\"top\">B</td>\n",
       "      <td>a</td>\n",
       "      <td>fair</td>\n",
       "    </tr>\n",
       "    <tr>\n",
       "      <td>b</td>\n",
       "      <td>bad</td>\n",
       "    </tr>\n",
       "  </tbody>\n",
       "</table>\n",
       "</div>"
      ]
     },
     "execution_count": 166,
     "metadata": {},
     "output_type": "execute_result"
    }
   ],
   "source": [
    "arrays = [['A','a'],['A','b'],['B','a'],['B','b']]\n",
    "mul_index = pd.MultiIndex.from_tuples(arrays,names=('Upper','Lower'))\n",
    "pd.DataFrame({\"Score\":['perfect','good','fair','bad']},index=mul_index)"
   ]
  },
  {
   "cell_type": "code",
   "execution_count": 168,
   "metadata": {},
   "outputs": [],
   "source": [
    "mul_index\n",
    "#由此看出内部自动转成元组"
   ]
  },
  {
   "cell_type": "markdown",
   "metadata": {},
   "source": [
    "#### （b）通过from_product"
   ]
  },
  {
   "cell_type": "code",
   "execution_count": 170,
   "metadata": {},
   "outputs": [
    {
     "data": {
      "text/plain": [
       "MultiIndex([('A', 'a'),\n            ('A', 'b'),\n            ('B', 'a'),\n            ('B', 'b')],\n           names=['Upper', 'Lower'])"
      ]
     },
     "execution_count": 170,
     "metadata": {},
     "output_type": "execute_result"
    }
   ],
   "source": [
    "L1 = ['A','B']\n",
    "L2 = ['a','b']\n",
    "pd.MultiIndex.from_product([L1,L2],names=('Upper','Lower'))\n",
    "#两两相乘"
   ]
  },
  {
   "cell_type": "markdown",
   "metadata": {},
   "source": [
    "#### （c）指定df中的列创建（set_index方法）"
   ]
  },
  {
   "cell_type": "code",
   "execution_count": 176,
   "metadata": {},
   "outputs": [
    {
     "name": "stdout",
     "output_type": "stream",
     "text": [
      "               School Gender  Height  Weight  Math Physics\nClass Address                                             \nC_1   street_1    S_1      M     173      63  34.0      A+\n      street_2    S_1      F     192      73  32.5      B+\n      street_2    S_1      M     186      82  87.2      B+\n      street_2    S_1      F     167      81  80.4      B-\n      street_4    S_1      F     159      64  84.8      B+\n"
     ]
    }
   ],
   "source": [
    "df_using_mul = df.set_index(['Class','Address'])\n",
    "print(df_using_mul.head())"
   ]
  },
  {
   "cell_type": "markdown",
   "metadata": {},
   "source": [
    "### 2. 多层索引切片"
   ]
  },
  {
   "cell_type": "code",
   "execution_count": 177,
   "metadata": {},
   "outputs": [],
   "source": [
    "df_using_mul.head()"
   ]
  },
  {
   "cell_type": "markdown",
   "metadata": {},
   "source": [
    "#### （a）一般切片"
   ]
  },
  {
   "cell_type": "code",
   "execution_count": 185,
   "metadata": {
    "collapsed": true
   },
   "outputs": [
    {
     "name": "stdout",
     "output_type": "stream",
     "text": [
      "               School Gender  Height  Weight  Math Physics\nClass Address                                             \nC_2   street_5    S_1      M     188      68  97.0      A-\n      street_5    S_1      F     162      63  33.8       B\n      street_5    S_2      M     193     100  39.1       B\n"
     ]
    }
   ],
   "source": [
    "# df_using_mul.loc['C_2','street_5']\n",
    "\"\"\".\n",
    "py:1: PerformanceWarning: indexing past lexsort depth may impact performance.\n",
    " Entry point for launching an IPython kernel.\n",
    "\"\"\"\n",
    "# df_using_mul.index.is_lexsorted()\n",
    "# 该函数检查是否排序\n",
    "# df_using_mul.sort_index().index.is_lexsorted()\n",
    "print(df_using_mul.sort_index().loc['C_2','street_5'])"
   ]
  },
  {
   "cell_type": "code",
   "execution_count": 188,
   "metadata": {},
   "outputs": [
    {
     "name": "stdout",
     "output_type": "stream",
     "text": [
      "               School Gender  Height  Weight  Math Physics\nClass Address                                             \nC_2   street_6    S_1      M     160      53  58.8      A+\n      street_6    S_1      F     167      63  68.4      B-\n      street_7    S_2      F     194      77  68.5      B+\n      street_7    S_2      F     183      76  85.4       B\nC_3   street_1    S_1      F     175      57  87.7      A-\n      street_2    S_1      M     195      70  85.2       A\n      street_4    S_1      M     161      68  31.5      B+\n      street_4    S_2      F     157      78  72.3      B+\n      street_4    S_2      M     187      73  48.9       B\n"
     ]
    }
   ],
   "source": [
    "# df_using_mul.loc[('C_2','street_5'):]\n",
    "\"\"\"\n",
    "UnsortedIndexError: 'Key length (2) was greater than MultiIndex lexsort depth (0)'\n",
    "\"\"\"\n",
    "#当不排序时，不能使用多层切片\n",
    "print(df_using_mul.sort_index().loc[('C_2','street_6'):('C_3','street_4')])\n",
    "#注意此处由于使用了loc，因此仍然包含右端点"
   ]
  },
  {
   "cell_type": "code",
   "execution_count": 190,
   "metadata": {},
   "outputs": [
    {
     "name": "stdout",
     "output_type": "stream",
     "text": [
      "               School Gender  Height  Weight  Math Physics\nClass Address                                             \nC_2   street_7    S_2      F     194      77  68.5      B+\n      street_7    S_2      F     183      76  85.4       B\nC_3   street_1    S_1      F     175      57  87.7      A-\n      street_2    S_1      M     195      70  85.2       A\n      street_4    S_1      M     161      68  31.5      B+\n"
     ]
    }
   ],
   "source": [
    "print(df_using_mul.sort_index().loc[('C_2','street_7'):'C_3'].head())\n",
    "#非元组也是合法的，表示选中该层所有元素"
   ]
  },
  {
   "cell_type": "markdown",
   "metadata": {},
   "source": [
    "#### （b）第一类特殊情况：由元组构成列表"
   ]
  },
  {
   "cell_type": "code",
   "execution_count": 192,
   "metadata": {},
   "outputs": [
    {
     "name": "stdout",
     "output_type": "stream",
     "text": [
      "               School Gender  Height  Weight  Math Physics\nClass Address                                             \nC_2   street_7    S_2      F     194      77  68.5      B+\n      street_7    S_2      F     183      76  85.4       B\nC_3   street_2    S_1      M     195      70  85.2       A\n"
     ]
    }
   ],
   "source": [
    "print(df_using_mul.sort_index().loc[[('C_2','street_7'),('C_3','street_2')]])"
   ]
  },
  {
   "cell_type": "markdown",
   "metadata": {},
   "source": [
    "#### （c）第二类特殊情况：由列表构成元组"
   ]
  },
  {
   "cell_type": "code",
   "execution_count": 194,
   "metadata": {},
   "outputs": [
    {
     "name": "stdout",
     "output_type": "stream",
     "text": [
      "               School Gender  Height  Weight  Math Physics\nClass Address                                             \nC_2   street_4    S_1      F     176      94  63.5      B-\n      street_4    S_2      M     155      91  73.8      A+\n      street_7    S_2      F     194      77  68.5      B+\n      street_7    S_2      F     183      76  85.4       B\nC_3   street_4    S_1      M     161      68  31.5      B+\n      street_4    S_2      F     157      78  72.3      B+\n      street_4    S_2      M     187      73  48.9       B\n      street_7    S_1      M     188      82  49.7       B\n      street_7    S_2      F     190      99  65.9       C\n"
     ]
    }
   ],
   "source": [
    "print(df_using_mul.sort_index().loc[(['C_2','C_3'],['street_4','street_7']),:])\n",
    "#选出第一层在‘C_2’和'C_3'中且第二层在'street_4'和'street_7'中的行\n"
   ]
  },
  {
   "cell_type": "markdown",
   "metadata": {},
   "source": [
    "### 3. 多层索引中的slice对象"
   ]
  },
  {
   "cell_type": "code",
   "execution_count": 197,
   "metadata": {},
   "outputs": [
    {
     "name": "stdout",
     "output_type": "stream",
     "text": [
      "Big                 D                             E                      \\\nSmall               d         e         f         d         e         f   \nUpper Lower                                                               \nA     a      0.864391  0.714078  0.271285  0.756465  0.748557  0.679896   \n      b      0.090749  0.246407  0.241396  0.406361  0.884900  0.072122   \n      c      0.236361  0.106546  0.286186  0.795982  0.939450  0.820210   \nB     a      0.007423  0.238430  0.790200  0.792669  0.452499  0.910075   \n      b      0.705756  0.684828  0.646193  0.642448  0.508978  0.446434   \n      c      0.019575  0.329740  0.864165  0.441382  0.027782  0.725615   \nC     a      0.316079  0.917979  0.148862  0.121552  0.497111  0.434123   \n      b      0.700321  0.668722  0.828870  0.951165  0.915232  0.178456   \n      c      0.979892  0.100730  0.850781  0.228032  0.202791  0.043482   \n\nBig                 F                      \nSmall               d         e         f  \nUpper Lower                                \nA     a      0.127708  0.768663  0.559134  \n      b      0.903652  0.742082  0.867809  \n      c      0.742870  0.333443  0.456928  \nB     a      0.420858  0.770235  0.706966  \n      b      0.790129  0.092030  0.219359  \n      c      0.221063  0.653719  0.310378  \nC     a      0.238951  0.525873  0.184375  \n      b      0.663042  0.685576  0.141874  \n      c      0.876464  0.828517  0.980614  \n"
     ]
    }
   ],
   "source": [
    "L1,L2 = ['A','B','C'],['a','b','c']\n",
    "mul_index1 = pd.MultiIndex.from_product([L1,L2],names=('Upper', 'Lower'))\n",
    "L3,L4 = ['D','E','F'],['d','e','f']\n",
    "mul_index2 = pd.MultiIndex.from_product([L3,L4],names=('Big', 'Small'))\n",
    "df_s = pd.DataFrame(np.random.rand(9,9),index=mul_index1,columns=mul_index2)\n",
    "print(df_s)"
   ]
  },
  {
   "cell_type": "code",
   "execution_count": 198,
   "metadata": {},
   "outputs": [],
   "source": [
    "idx=pd.IndexSlice"
   ]
  },
  {
   "cell_type": "markdown",
   "metadata": {},
   "source": [
    "#### 索引Slice的使用非常灵活："
   ]
  },
  {
   "cell_type": "code",
   "execution_count": 200,
   "metadata": {},
   "outputs": [
    {
     "name": "stdout",
     "output_type": "stream",
     "text": [
      "Big                 D                   E                             F  \\\nSmall               e         f         d         e         f         d   \nUpper Lower                                                               \nB     b      0.684828  0.646193  0.642448  0.508978  0.446434  0.790129   \nC     a      0.917979  0.148862  0.121552  0.497111  0.434123  0.238951   \n      b      0.668722  0.828870  0.951165  0.915232  0.178456  0.663042   \n      c      0.100730  0.850781  0.228032  0.202791  0.043482  0.876464   \n\nBig                              \nSmall               e         f  \nUpper Lower                      \nB     b      0.092030  0.219359  \nC     a      0.525873  0.184375  \n      b      0.685576  0.141874  \n      c      0.828517  0.980614  \n"
     ]
    }
   ],
   "source": [
    "print(df_s.loc[idx['B':,df_s['D']['d']>0.3],idx[df_s.sum()>4]])\n",
    "#df_s.sum()默认为对列求和，因此返回一个长度为9的数值列表"
   ]
  },
  {
   "cell_type": "markdown",
   "metadata": {},
   "source": [
    "### 4. 索引层的交换\n",
    "#### （a）swaplevel方法（两层交换）"
   ]
  },
  {
   "cell_type": "code",
   "execution_count": 202,
   "metadata": {},
   "outputs": [
    {
     "name": "stdout",
     "output_type": "stream",
     "text": [
      "               School Gender  Height  Weight  Math Physics\nClass Address                                             \nC_1   street_1    S_1      M     173      63  34.0      A+\n      street_2    S_1      F     192      73  32.5      B+\n      street_2    S_1      M     186      82  87.2      B+\n      street_2    S_1      F     167      81  80.4      B-\n      street_4    S_1      F     159      64  84.8      B+\n"
     ]
    }
   ],
   "source": [
    "print(df_using_mul.head())"
   ]
  },
  {
   "cell_type": "code",
   "execution_count": 204,
   "metadata": {},
   "outputs": [
    {
     "name": "stdout",
     "output_type": "stream",
     "text": [
      "               School Gender  Height  Weight  Math Physics\nAddress  Class                                            \nstreet_1 C_1      S_1      M     173      63  34.0      A+\n         C_2      S_2      M     175      74  47.2      B-\n         C_3      S_1      F     175      57  87.7      A-\nstreet_2 C_1      S_1      F     192      73  32.5      B+\n         C_1      S_1      M     186      82  87.2      B+\n"
     ]
    }
   ],
   "source": [
    "print(df_using_mul.swaplevel(i=1,j=0,axis=0).sort_index().head())"
   ]
  },
  {
   "cell_type": "markdown",
   "metadata": {},
   "source": [
    "#### （b）reorder_levels方法（多层交换）"
   ]
  },
  {
   "cell_type": "code",
   "execution_count": 205,
   "metadata": {},
   "outputs": [
    {
     "name": "stdout",
     "output_type": "stream",
     "text": [
      "                      Gender  Height  Weight  Math Physics\nSchool Class Address                                      \nS_1    C_1   street_1      M     173      63  34.0      A+\n             street_2      F     192      73  32.5      B+\n             street_2      M     186      82  87.2      B+\n             street_2      F     167      81  80.4      B-\n             street_4      F     159      64  84.8      B+\n"
     ]
    }
   ],
   "source": [
    "df_muls = df.set_index(['School','Class','Address'])\n",
    "print(df_muls.head())"
   ]
  },
  {
   "cell_type": "code",
   "execution_count": 209,
   "metadata": {},
   "outputs": [
    {
     "name": "stdout",
     "output_type": "stream",
     "text": [
      "                      Gender  Height  Weight  Math Physics\nAddress  School Class                                     \nstreet_1 S_1    C_1        M     173      63  34.0      A+\n                C_3        F     175      57  87.7      A-\n         S_2    C_2        M     175      74  47.2      B-\nstreet_2 S_1    C_1        F     192      73  32.5      B+\n                C_1        M     186      82  87.2      B+\n"
     ]
    }
   ],
   "source": [
    "print(df_muls.reorder_levels([2,0,1],axis=0).sort_index().head())"
   ]
  },
  {
   "cell_type": "code",
   "execution_count": 210,
   "metadata": {},
   "outputs": [
    {
     "name": "stdout",
     "output_type": "stream",
     "text": [
      "                      Gender  Height  Weight  Math Physics\nAddress  School Class                                     \nstreet_1 S_1    C_1        M     173      63  34.0      A+\n                C_3        F     175      57  87.7      A-\n         S_2    C_2        M     175      74  47.2      B-\nstreet_2 S_1    C_1        F     192      73  32.5      B+\n                C_1        M     186      82  87.2      B+\n"
     ]
    }
   ],
   "source": [
    "print(df_muls.reorder_levels([2,0,1],axis=0).sort_index().head())"
   ]
  },
  {
   "cell_type": "code",
   "execution_count": 211,
   "metadata": {},
   "outputs": [
    {
     "name": "stdout",
     "output_type": "stream",
     "text": [
      "                      Gender  Height  Weight  Math Physics\nAddress  School Class                                     \nstreet_1 S_1    C_1        M     173      63  34.0      A+\n                C_3        F     175      57  87.7      A-\n         S_2    C_2        M     175      74  47.2      B-\nstreet_2 S_1    C_1        F     192      73  32.5      B+\n                C_1        M     186      82  87.2      B+\n"
     ]
    }
   ],
   "source": [
    "#如果索引有name，可以直接使用name\n",
    "print(df_muls.reorder_levels(['Address','School','Class'],axis=0).sort_index().head())"
   ]
  },
  {
   "cell_type": "markdown",
   "metadata": {},
   "source": [
    "对行索引列表进行重排列"
   ]
  },
  {
   "cell_type": "markdown",
   "metadata": {},
   "source": [
    "## 三、索引设定\n",
    "### 1. index_col参数\n",
    "#### index_col是read_csv中的一个参数，而不是某一个方法："
   ]
  },
  {
   "cell_type": "code",
   "execution_count": 213,
   "metadata": {},
   "outputs": [
    {
     "name": "stdout",
     "output_type": "stream",
     "text": [
      "                Class    ID Gender  Height  Weight  Math Physics\nAddress  School                                                 \nstreet_1 S_1      C_1  1101      M     173      63  34.0      A+\nstreet_2 S_1      C_1  1102      F     192      73  32.5      B+\n         S_1      C_1  1103      M     186      82  87.2      B+\n         S_1      C_1  1104      F     167      81  80.4      B-\nstreet_4 S_1      C_1  1105      F     159      64  84.8      B+\n"
     ]
    }
   ],
   "source": [
    "print(pd.read_csv('C:/Users/29146/PycharmProjects/DataWhale_pandas/Tasks_pandas/data/table.csv',index_col=['Address','School']).head())"
   ]
  },
  {
   "cell_type": "markdown",
   "metadata": {},
   "source": [
    "### 2. reindex和reindex_like\n",
    "#### reindex是指重新索引，它的重要特性在于索引对齐，很多时候用于重新排序"
   ]
  },
  {
   "cell_type": "code",
   "execution_count": 215,
   "metadata": {},
   "outputs": [
    {
     "name": "stdout",
     "output_type": "stream",
     "text": [
      "     School Class Gender   Address  Height  Weight  Math Physics\nID                                                              \n1101    S_1   C_1      M  street_1     173      63  34.0      A+\n1102    S_1   C_1      F  street_2     192      73  32.5      B+\n1103    S_1   C_1      M  street_2     186      82  87.2      B+\n1104    S_1   C_1      F  street_2     167      81  80.4      B-\n1105    S_1   C_1      F  street_4     159      64  84.8      B+\n"
     ]
    }
   ],
   "source": [
    "print(df.head())"
   ]
  },
  {
   "cell_type": "code",
   "execution_count": 218,
   "metadata": {},
   "outputs": [
    {
     "name": "stdout",
     "output_type": "stream",
     "text": [
      "     School Class Gender   Address  Height  Weight  Math Physics\nID                                                              \n1101    S_1   C_1      M  street_1   173.0    63.0  34.0      A+\n1203    S_1   C_2      M  street_6   160.0    53.0  58.8      A+\n1206    NaN   NaN    NaN       NaN     NaN     NaN   NaN     NaN\n2402    S_2   C_4      M  street_7   166.0    82.0  48.7       B\n"
     ]
    }
   ],
   "source": [
    "print(df.reindex(index=[1101,1203,1206,2402]))"
   ]
  },
  {
   "cell_type": "code",
   "execution_count": 219,
   "metadata": {},
   "outputs": [
    {
     "name": "stdout",
     "output_type": "stream",
     "text": [
      "      Height Gender  Average\nID                          \n1101     173      M      NaN\n1102     192      F      NaN\n1103     186      M      NaN\n1104     167      F      NaN\n1105     159      F      NaN\n"
     ]
    }
   ],
   "source": [
    "print(df.reindex(columns=['Height','Gender','Average']).head())"
   ]
  },
  {
   "cell_type": "markdown",
   "metadata": {},
   "source": [
    "#### 可以选择缺失值的填充方法：fill_value和method（bfill/ffill/nearest），其中method参数必须索引单调"
   ]
  },
  {
   "cell_type": "code",
   "execution_count": 222,
   "metadata": {},
   "outputs": [
    {
     "name": "stdout",
     "output_type": "stream",
     "text": [
      "     School Class Gender   Address  Height  Weight  Math Physics\nID                                                              \n1101    S_1   C_1      M  street_1     173      63  34.0      A+\n1203    S_1   C_2      M  street_6     160      53  58.8      A+\n1206    S_1   C_3      M  street_4     161      68  31.5      B+\n2402    S_2   C_4      M  street_7     166      82  48.7       B\n"
     ]
    }
   ],
   "source": [
    "print(df.reindex(index=[1101,1203,1206,2402],method='bfill'))\n",
    "#bfill表示用所在索引1206的后一个有效行填充，ffill为前一个有效行，nearest是指最近的"
   ]
  },
  {
   "cell_type": "code",
   "execution_count": 225,
   "metadata": {},
   "outputs": [
    {
     "name": "stdout",
     "output_type": "stream",
     "text": [
      "     School Class Gender   Address  Height  Weight  Math Physics\nID                                                              \n1101    S_1   C_1      M  street_1     173      63  34.0      A+\n1203    S_1   C_2      M  street_6     160      53  58.8      A+\n1206    S_1   C_2      F  street_6     167      63  68.4      B-\n2402    S_2   C_4      M  street_7     166      82  48.7       B\n"
     ]
    }
   ],
   "source": [
    "print(df.reindex(index=[1101,1203,1206,2402],method='nearest'))\n",
    "#数值上1205比1301更接近1206，因此用前者填充"
   ]
  },
  {
   "cell_type": "markdown",
   "metadata": {},
   "source": [
    "#### reindex_like的作用为生成一个横纵索引完全与参数列表一致的DataFrame，数据使用被调用的表"
   ]
  },
  {
   "cell_type": "code",
   "execution_count": 232,
   "metadata": {},
   "outputs": [
    {
     "name": "stdout",
     "output_type": "stream",
     "text": [
      "      Weight  Height\nID                  \n1101     0.0     0.0\n1104     0.0     0.0\n1103     0.0     0.0\n1106     0.0     0.0\n1102     0.0     0.0\n      Weight  Height\nID                  \n1101      63     173\n1102      73     192\n1103      82     186\n1104      81     167\n1105      64     159\n      Weight  Height\nID                  \n1101     0.0     0.0\n1102     0.0     0.0\n1103     0.0     0.0\n1104     0.0     0.0\n1105     NaN     NaN\n"
     ]
    }
   ],
   "source": [
    "df_temp = pd.DataFrame({'Weight':np.zeros(5),\n",
    "                        'Height':np.zeros(5),\n",
    "                        'ID':[1101,1104,1103,1106,1102]}).set_index('ID')\n",
    "print(df_temp)\n",
    "print(df[0:5][['Weight','Height']])\n",
    "print(df_temp.reindex_like(df[0:5][['Weight','Height']]))"
   ]
  },
  {
   "cell_type": "markdown",
   "metadata": {},
   "source": [
    "df_temp中没有的行列1105,在reindex_like操作中整行变成了NAN"
   ]
  },
  {
   "cell_type": "markdown",
   "metadata": {},
   "source": [
    "#### 如果df_temp单调还可以使用method参数："
   ]
  },
  {
   "cell_type": "code",
   "execution_count": 233,
   "metadata": {},
   "outputs": [
    {
     "data": {
      "text/html": [
       "<div>\n",
       "<style scoped>\n",
       "    .dataframe tbody tr th:only-of-type {\n",
       "        vertical-align: middle;\n",
       "    }\n",
       "\n",
       "    .dataframe tbody tr th {\n",
       "        vertical-align: top;\n",
       "    }\n",
       "\n",
       "    .dataframe thead th {\n",
       "        text-align: right;\n",
       "    }\n",
       "</style>\n",
       "<table border=\"1\" class=\"dataframe\">\n",
       "  <thead>\n",
       "    <tr style=\"text-align: right;\">\n",
       "      <th></th>\n",
       "      <th>Weight</th>\n",
       "      <th>Height</th>\n",
       "    </tr>\n",
       "    <tr>\n",
       "      <th>ID</th>\n",
       "      <th></th>\n",
       "      <th></th>\n",
       "    </tr>\n",
       "  </thead>\n",
       "  <tbody>\n",
       "    <tr>\n",
       "      <td>1101</td>\n",
       "      <td>0</td>\n",
       "      <td>0</td>\n",
       "    </tr>\n",
       "    <tr>\n",
       "      <td>1102</td>\n",
       "      <td>4</td>\n",
       "      <td>4</td>\n",
       "    </tr>\n",
       "    <tr>\n",
       "      <td>1103</td>\n",
       "      <td>2</td>\n",
       "      <td>2</td>\n",
       "    </tr>\n",
       "    <tr>\n",
       "      <td>1104</td>\n",
       "      <td>1</td>\n",
       "      <td>1</td>\n",
       "    </tr>\n",
       "    <tr>\n",
       "      <td>1105</td>\n",
       "      <td>3</td>\n",
       "      <td>3</td>\n",
       "    </tr>\n",
       "  </tbody>\n",
       "</table>\n",
       "</div>"
      ],
      "text/plain": [
       "<div>\n",
       "<style scoped>\n",
       "    .dataframe tbody tr th:only-of-type {\n",
       "        vertical-align: middle;\n",
       "    }\n",
       "\n",
       "    .dataframe tbody tr th {\n",
       "        vertical-align: top;\n",
       "    }\n",
       "\n",
       "    .dataframe thead th {\n",
       "        text-align: right;\n",
       "    }\n",
       "</style>\n",
       "<table border=\"1\" class=\"dataframe\">\n",
       "  <thead>\n",
       "    <tr style=\"text-align: right;\">\n",
       "      <th></th>\n",
       "      <th>Weight</th>\n",
       "      <th>Height</th>\n",
       "    </tr>\n",
       "    <tr>\n",
       "      <th>ID</th>\n",
       "      <th></th>\n",
       "      <th></th>\n",
       "    </tr>\n",
       "  </thead>\n",
       "  <tbody>\n",
       "    <tr>\n",
       "      <td>1101</td>\n",
       "      <td>0</td>\n",
       "      <td>0</td>\n",
       "    </tr>\n",
       "    <tr>\n",
       "      <td>1102</td>\n",
       "      <td>4</td>\n",
       "      <td>4</td>\n",
       "    </tr>\n",
       "    <tr>\n",
       "      <td>1103</td>\n",
       "      <td>2</td>\n",
       "      <td>2</td>\n",
       "    </tr>\n",
       "    <tr>\n",
       "      <td>1104</td>\n",
       "      <td>1</td>\n",
       "      <td>1</td>\n",
       "    </tr>\n",
       "    <tr>\n",
       "      <td>1105</td>\n",
       "      <td>3</td>\n",
       "      <td>3</td>\n",
       "    </tr>\n",
       "  </tbody>\n",
       "</table>\n",
       "</div>"
      ]
     },
     "execution_count": 233,
     "metadata": {},
     "output_type": "execute_result"
    }
   ],
   "source": [
    "df_temp = pd.DataFrame({'Weight':range(5),\n",
    "                        'Height':range(5),\n",
    "                        'ID':[1101,1104,1103,1106,1102]}).set_index('ID').sort_index()\n",
    "df_temp.reindex_like(df[0:5][['Weight','Height']],method='bfill')\n",
    "#可以自行检验这里的1105的值是否是由bfill规则填充"
   ]
  },
  {
   "cell_type": "markdown",
   "metadata": {},
   "source": [
    "### 3. set_index和reset_index\n",
    "#### 先介绍set_index：从字面意思看，就是将某些列作为索引"
   ]
  },
  {
   "cell_type": "markdown",
   "metadata": {},
   "source": [
    "#### 使用表内列作为索引："
   ]
  },
  {
   "cell_type": "code",
   "execution_count": 235,
   "metadata": {},
   "outputs": [],
   "source": [
    "print(df.head())"
   ]
  },
  {
   "cell_type": "code",
   "execution_count": 237,
   "metadata": {},
   "outputs": [
    {
     "name": "stdout",
     "output_type": "stream",
     "text": [
      "      School Gender   Address  Height  Weight  Math Physics\nClass                                                      \nC_1      S_1      M  street_1     173      63  34.0      A+\nC_1      S_1      F  street_2     192      73  32.5      B+\nC_1      S_1      M  street_2     186      82  87.2      B+\nC_1      S_1      F  street_2     167      81  80.4      B-\nC_1      S_1      F  street_4     159      64  84.8      B+\n"
     ]
    }
   ],
   "source": [
    "print(df.set_index('Class').head())"
   ]
  },
  {
   "cell_type": "markdown",
   "metadata": {},
   "source": [
    "#### 利用append参数可以将当前索引维持不变"
   ]
  },
  {
   "cell_type": "code",
   "execution_count": 239,
   "metadata": {},
   "outputs": [
    {
     "name": "stdout",
     "output_type": "stream",
     "text": [
      "           School Gender   Address  Height  Weight  Math Physics\nID   Class                                                      \n1101 C_1      S_1      M  street_1     173      63  34.0      A+\n1102 C_1      S_1      F  street_2     192      73  32.5      B+\n1103 C_1      S_1      M  street_2     186      82  87.2      B+\n1104 C_1      S_1      F  street_2     167      81  80.4      B-\n1105 C_1      S_1      F  street_4     159      64  84.8      B+\n"
     ]
    }
   ],
   "source": [
    "print(df.set_index('Class',append=True).head())"
   ]
  },
  {
   "cell_type": "markdown",
   "metadata": {},
   "source": [
    "#### 当使用与表长相同的列作为索引（需要先转化为Series，否则报错）："
   ]
  },
  {
   "cell_type": "code",
   "execution_count": 241,
   "metadata": {},
   "outputs": [
    {
     "name": "stdout",
     "output_type": "stream",
     "text": [
      "  School Class Gender   Address  Height  Weight  Math Physics\n0    S_1   C_1      M  street_1     173      63  34.0      A+\n1    S_1   C_1      F  street_2     192      73  32.5      B+\n2    S_1   C_1      M  street_2     186      82  87.2      B+\n3    S_1   C_1      F  street_2     167      81  80.4      B-\n4    S_1   C_1      F  street_4     159      64  84.8      B+\n"
     ]
    }
   ],
   "source": [
    "print(df.set_index(pd.Series(range(df.shape[0]))).head())"
   ]
  },
  {
   "cell_type": "markdown",
   "metadata": {},
   "source": [
    "#### 可以直接添加多级索引："
   ]
  },
  {
   "cell_type": "code",
   "execution_count": 243,
   "metadata": {},
   "outputs": [
    {
     "name": "stdout",
     "output_type": "stream",
     "text": [
      "      School Class Gender   Address  Height  Weight  Math Physics\n0 1.0    S_1   C_1      M  street_1     173      63  34.0      A+\n1 1.0    S_1   C_1      F  street_2     192      73  32.5      B+\n2 1.0    S_1   C_1      M  street_2     186      82  87.2      B+\n3 1.0    S_1   C_1      F  street_2     167      81  80.4      B-\n4 1.0    S_1   C_1      F  street_4     159      64  84.8      B+\n"
     ]
    }
   ],
   "source": [
    "print(df.set_index([pd.Series(range(df.shape[0])),pd.Series(np.ones(df.shape[0]))]).head())"
   ]
  },
  {
   "cell_type": "markdown",
   "metadata": {},
   "source": [
    "#### 下面介绍reset_index方法，它的主要功能是将索引重置\n",
    "#### 默认状态直接恢复到自然数索引："
   ]
  },
  {
   "cell_type": "code",
   "execution_count": 246,
   "metadata": {},
   "outputs": [
    {
     "name": "stdout",
     "output_type": "stream",
     "text": [
      "     ID School Class Gender   Address  Height  Weight  Math Physics\n0  1101    S_1   C_1      M  street_1     173      63  34.0      A+\n1  1102    S_1   C_1      F  street_2     192      73  32.5      B+\n2  1103    S_1   C_1      M  street_2     186      82  87.2      B+\n3  1104    S_1   C_1      F  street_2     167      81  80.4      B-\n4  1105    S_1   C_1      F  street_4     159      64  84.8      B+\n"
     ]
    }
   ],
   "source": [
    "print(df.reset_index().head())"
   ]
  },
  {
   "cell_type": "markdown",
   "metadata": {},
   "source": [
    "#### 用level参数指定哪一层被reset，用col_level参数指定set到哪一层："
   ]
  },
  {
   "cell_type": "code",
   "execution_count": 248,
   "metadata": {},
   "outputs": [
    {
     "name": "stdout",
     "output_type": "stream",
     "text": [
      "Big                 D                             E                      \\\nSmall               d         e         f         d         e         f   \nUpper Lower                                                               \nA     a      0.661924  0.356784  0.515799  0.847461  0.997227  0.387295   \n      b      0.606067  0.762374  0.760741  0.000387  0.111107  0.976741   \n      c      0.318938  0.452649  0.002374  0.708844  0.193136  0.851944   \nB     a      0.724229  0.058606  0.052831  0.540780  0.922466  0.129869   \n      b      0.253248  0.914955  0.762799  0.023795  0.843190  0.112703   \n\nBig                 F                      \nSmall               d         e         f  \nUpper Lower                                \nA     a      0.622148  0.040594  0.313898  \n      b      0.522156  0.354165  0.285631  \n      c      0.158870  0.398349  0.023936  \nB     a      0.124928  0.830106  0.623075  \n      b      0.958154  0.482306  0.871059  \n"
     ]
    }
   ],
   "source": [
    "L1,L2 = ['A','B','C'],['a','b','c']\n",
    "mul_index1 = pd.MultiIndex.from_product([L1,L2],names=('Upper', 'Lower'))\n",
    "L3,L4 = ['D','E','F'],['d','e','f']\n",
    "mul_index2 = pd.MultiIndex.from_product([L3,L4],names=('Big', 'Small'))\n",
    "df_temp = pd.DataFrame(np.random.rand(9,9),index=mul_index1,columns=mul_index2)\n",
    "print(df_temp.head())"
   ]
  },
  {
   "cell_type": "code",
   "execution_count": 257,
   "metadata": {},
   "outputs": [
    {
     "name": "stdout",
     "output_type": "stream",
     "text": [
      "Big                 D                             E                      \\\nSmall Lower         d         e         f         d         e         f   \nUpper                                                                     \nA         a  0.661924  0.356784  0.515799  0.847461  0.997227  0.387295   \nA         b  0.606067  0.762374  0.760741  0.000387  0.111107  0.976741   \nA         c  0.318938  0.452649  0.002374  0.708844  0.193136  0.851944   \nB         a  0.724229  0.058606  0.052831  0.540780  0.922466  0.129869   \nB         b  0.253248  0.914955  0.762799  0.023795  0.843190  0.112703   \n\nBig           F                      \nSmall         d         e         f  \nUpper                                \nA      0.622148  0.040594  0.313898  \nA      0.522156  0.354165  0.285631  \nA      0.158870  0.398349  0.023936  \nB      0.124928  0.830106  0.623075  \nB      0.958154  0.482306  0.871059  \n"
     ]
    }
   ],
   "source": [
    "df_temp1 = df_temp.reset_index(level=1,col_level=1)\n",
    "print(df_temp1.head())"
   ]
  },
  {
   "cell_type": "code",
   "execution_count": 250,
   "metadata": {},
   "outputs": [
    {
     "data": {
      "text/plain": [
       "MultiIndex([( '', 'Lower'),\n            ('D',     'd'),\n            ('D',     'e'),\n            ('D',     'f'),\n            ('E',     'd'),\n            ('E',     'e'),\n            ('E',     'f'),\n            ('F',     'd'),\n            ('F',     'e'),\n            ('F',     'f')],\n           names=['Big', 'Small'])"
      ]
     },
     "execution_count": 250,
     "metadata": {},
     "output_type": "execute_result"
    }
   ],
   "source": [
    "df_temp1.columns\n",
    "#看到的确插入了level2"
   ]
  },
  {
   "cell_type": "code",
   "execution_count": 254,
   "metadata": {},
   "outputs": [
    {
     "name": "stdout",
     "output_type": "stream",
     "text": [
      "Index(['A', 'A', 'A', 'B', 'B', 'B', 'C', 'C', 'C'], dtype='object', name='Upper')\n"
     ]
    }
   ],
   "source": [
    "print(df_temp1.index)\n",
    "#最内层索引被移出"
   ]
  },
  {
   "cell_type": "markdown",
   "metadata": {},
   "source": [
    "### 4. rename_axis和rename\n",
    "#### rename_axis是针对多级索引的方法，作用是修改某一层的索引名，而不是索引标签"
   ]
  },
  {
   "cell_type": "code",
   "execution_count": 260,
   "metadata": {},
   "outputs": [
    {
     "name": "stdout",
     "output_type": "stream",
     "text": [
      "BigBig                   D                             E                      \\\nSmall                    d         e         f         d         e         f   \nUpper LowerLower                                                               \nA     a           0.661924  0.356784  0.515799  0.847461  0.997227  0.387295   \n      b           0.606067  0.762374  0.760741  0.000387  0.111107  0.976741   \n      c           0.318938  0.452649  0.002374  0.708844  0.193136  0.851944   \nB     a           0.724229  0.058606  0.052831  0.540780  0.922466  0.129869   \n      b           0.253248  0.914955  0.762799  0.023795  0.843190  0.112703   \n      c           0.647447  0.620334  0.094652  0.522478  0.454064  0.096015   \nC     a           0.827686  0.862625  0.782691  0.401394  0.136688  0.758478   \n      b           0.399241  0.331096  0.450248  0.519584  0.585206  0.242162   \n      c           0.217946  0.601073  0.119708  0.637697  0.576000  0.331378   \n\nBigBig                   F                      \nSmall                    d         e         f  \nUpper LowerLower                                \nA     a           0.622148  0.040594  0.313898  \n      b           0.522156  0.354165  0.285631  \n      c           0.158870  0.398349  0.023936  \nB     a           0.124928  0.830106  0.623075  \n      b           0.958154  0.482306  0.871059  \n      c           0.269009  0.877485  0.153474  \nC     a           0.195037  0.598222  0.803005  \n      b           0.313178  0.623416  0.192636  \n      c           0.777290  0.024434  0.197917  \n"
     ]
    }
   ],
   "source": [
    "print(df_temp.rename_axis(index={'Lower':'LowerLower'},columns={'Big':'BigBig'}))"
   ]
  },
  {
   "cell_type": "markdown",
   "metadata": {},
   "source": [
    "#### rename方法用于修改列或者行索引标签，而不是索引名："
   ]
  },
  {
   "cell_type": "code",
   "execution_count": 262,
   "metadata": {},
   "outputs": [
    {
     "name": "stdout",
     "output_type": "stream",
     "text": [
      "Big                 D                             E                      \\\nSmall               d changed_e         f         d changed_e         f   \nUpper Lower                                                               \nT     a      0.661924  0.356784  0.515799  0.847461  0.997227  0.387295   \n      b      0.606067  0.762374  0.760741  0.000387  0.111107  0.976741   \n      c      0.318938  0.452649  0.002374  0.708844  0.193136  0.851944   \nB     a      0.724229  0.058606  0.052831  0.540780  0.922466  0.129869   \n      b      0.253248  0.914955  0.762799  0.023795  0.843190  0.112703   \n\nBig                 F                      \nSmall               d changed_e         f  \nUpper Lower                                \nT     a      0.622148  0.040594  0.313898  \n      b      0.522156  0.354165  0.285631  \n      c      0.158870  0.398349  0.023936  \nB     a      0.124928  0.830106  0.623075  \n      b      0.958154  0.482306  0.871059  \n"
     ]
    }
   ],
   "source": [
    "print(df_temp.rename(index={'A':'T'},columns={'e':'changed_e'}).head())"
   ]
  },
  {
   "cell_type": "markdown",
   "metadata": {},
   "source": [
    "## 四、常用索引型函数\n",
    "### 1. where函数\n",
    "#### 当对条件为False的单元进行填充："
   ]
  },
  {
   "cell_type": "code",
   "execution_count": 264,
   "metadata": {},
   "outputs": [
    {
     "name": "stdout",
     "output_type": "stream",
     "text": [
      "     School Class Gender   Address  Height  Weight  Math Physics\nID                                                              \n1101    S_1   C_1      M  street_1     173      63  34.0      A+\n1102    S_1   C_1      F  street_2     192      73  32.5      B+\n1103    S_1   C_1      M  street_2     186      82  87.2      B+\n1104    S_1   C_1      F  street_2     167      81  80.4      B-\n1105    S_1   C_1      F  street_4     159      64  84.8      B+\n"
     ]
    }
   ],
   "source": [
    "print(df.head())"
   ]
  },
  {
   "cell_type": "code",
   "execution_count": 270,
   "metadata": {},
   "outputs": [
    {
     "name": "stdout",
     "output_type": "stream",
     "text": [
      "     School Class Gender   Address  Height  Weight  Math Physics\nID                                                              \n1101    S_1   C_1      M  street_1   173.0    63.0  34.0      A+\n1102    NaN   NaN    NaN       NaN     NaN     NaN   NaN     NaN\n1103    S_1   C_1      M  street_2   186.0    82.0  87.2      B+\n1104    NaN   NaN    NaN       NaN     NaN     NaN   NaN     NaN\n1105    NaN   NaN    NaN       NaN     NaN     NaN   NaN     NaN\n"
     ]
    }
   ],
   "source": [
    "print(df.where(df['Gender']=='M').head())\n",
    "#不满足条件的行全部被设置为NaN"
   ]
  },
  {
   "cell_type": "markdown",
   "metadata": {},
   "source": [
    "#### 通过这种方法筛选结果和[]操作符的结果完全一致："
   ]
  },
  {
   "cell_type": "code",
   "execution_count": 274,
   "metadata": {},
   "outputs": [
    {
     "name": "stdout",
     "output_type": "stream",
     "text": [
      "     School Class Gender   Address  Height  Weight  Math Physics\nID                                                              \n1101    S_1   C_1      M  street_1     173      63  34.0      A+\n1103    S_1   C_1      M  street_2     186      82  87.2      B+\n1201    S_1   C_2      M  street_5     188      68  97.0      A-\n1203    S_1   C_2      M  street_6     160      53  58.8      A+\n1301    S_1   C_3      M  street_4     161      68  31.5      B+\n1303    S_1   C_3      M  street_7     188      82  49.7       B\n1304    S_1   C_3      M  street_2     195      70  85.2       A\n2101    S_2   C_1      M  street_7     174      84  83.3       C\n2103    S_2   C_1      M  street_4     157      61  52.5      B-\n2105    S_2   C_1      M  street_4     170      81  34.2       A\n2201    S_2   C_2      M  street_5     193     100  39.1       B\n2203    S_2   C_2      M  street_4     155      91  73.8      A+\n2204    S_2   C_2      M  street_1     175      74  47.2      B-\n2302    S_2   C_3      M  street_5     171      88  32.7       A\n2305    S_2   C_3      M  street_4     187      73  48.9       B\n2402    S_2   C_4      M  street_7     166      82  48.7       B\n"
     ]
    }
   ],
   "source": [
    "print(df[df['Gender']=='M'])"
   ]
  },
  {
   "cell_type": "markdown",
   "metadata": {},
   "source": [
    "#### 第一个参数为布尔条件，第二个参数为填充值："
   ]
  },
  {
   "cell_type": "code",
   "execution_count": 276,
   "metadata": {},
   "outputs": [
    {
     "name": "stdout",
     "output_type": "stream",
     "text": [
      "        School     Class     Gender   Address      Height     Weight  \\\nID                                                                     \n1101       S_1       C_1          M  street_1  173.000000  63.000000   \n1102  0.801275  0.187066   0.180868  0.642598    0.497863   0.698084   \n1103       S_1       C_1          M  street_2  186.000000  82.000000   \n1104  0.305158  0.314133    0.36453  0.736847    0.227981   0.567918   \n1105  0.860804   0.76093  0.0975974  0.295741    0.706321   0.958613   \n\n           Math   Physics  \nID                         \n1101  34.000000        A+  \n1102   0.743057  0.618599  \n1103  87.200000        B+  \n1104   0.667307  0.623311  \n1105   0.854680  0.111498  \n"
     ]
    }
   ],
   "source": [
    "print(df.where(df['Gender']=='M',np.random.rand(df.shape[0],df.shape[1])).head())"
   ]
  },
  {
   "cell_type": "markdown",
   "metadata": {},
   "source": [
    "### 2. mask函数\n",
    "#### mask函数与where功能上相反，其余完全一致，即对条件为True的单元进行填充"
   ]
  },
  {
   "cell_type": "code",
   "execution_count": 277,
   "metadata": {},
   "outputs": [
    {
     "name": "stdout",
     "output_type": "stream",
     "text": [
      "     School Class Gender   Address  Height  Weight  Math Physics\nID                                                              \n1102    S_1   C_1      F  street_2   192.0    73.0  32.5      B+\n1104    S_1   C_1      F  street_2   167.0    81.0  80.4      B-\n1105    S_1   C_1      F  street_4   159.0    64.0  84.8      B+\n1202    S_1   C_2      F  street_4   176.0    94.0  63.5      B-\n1204    S_1   C_2      F  street_5   162.0    63.0  33.8       B\n"
     ]
    }
   ],
   "source": [
    "print(df.mask(df['Gender']=='M').dropna().head())"
   ]
  },
  {
   "cell_type": "code",
   "execution_count": 279,
   "metadata": {},
   "outputs": [
    {
     "name": "stdout",
     "output_type": "stream",
     "text": [
      "         School     Class    Gender   Address      Height     Weight  \\\nID                                                                     \n1101  0.0942307  0.154406  0.354377  0.600501    0.558359   0.218500   \n1102        S_1       C_1         F  street_2  192.000000  73.000000   \n1103   0.388026  0.140346  0.239635  0.824238    0.319325   0.117391   \n1104        S_1       C_1         F  street_2  167.000000  81.000000   \n1105        S_1       C_1         F  street_4  159.000000  64.000000   \n\n           Math   Physics  \nID                         \n1101   0.183803  0.578852  \n1102  32.500000        B+  \n1103   0.404061  0.662818  \n1104  80.400000        B-  \n1105  84.800000        B+  \n"
     ]
    }
   ],
   "source": [
    "print(df.mask(df['Gender']=='M',np.random.rand(df.shape[0],df.shape[1])).head())"
   ]
  },
  {
   "cell_type": "markdown",
   "metadata": {},
   "source": [
    "### 3. query函数"
   ]
  },
  {
   "cell_type": "code",
   "execution_count": 281,
   "metadata": {},
   "outputs": [
    {
     "name": "stdout",
     "output_type": "stream",
     "text": [
      "     School Class Gender   Address  Height  Weight  Math Physics\nID                                                              \n1101    S_1   C_1      M  street_1     173      63  34.0      A+\n1102    S_1   C_1      F  street_2     192      73  32.5      B+\n1103    S_1   C_1      M  street_2     186      82  87.2      B+\n1104    S_1   C_1      F  street_2     167      81  80.4      B-\n1105    S_1   C_1      F  street_4     159      64  84.8      B+\n"
     ]
    }
   ],
   "source": [
    "print(df.head())"
   ]
  },
  {
   "cell_type": "markdown",
   "metadata": {},
   "source": [
    "#### query函数中的布尔表达式中，下面的符号都是合法的：行列索引名、字符串、and/not/or/&/|/~/not in/in/==/!=、四则运算符"
   ]
  },
  {
   "cell_type": "code",
   "execution_count": 284,
   "metadata": {},
   "outputs": [
    {
     "name": "stdout",
     "output_type": "stream",
     "text": [
      "     School Class Gender   Address  Height  Weight  Math Physics\nID                                                              \n1303    S_1   C_3      M  street_7     188      82  49.7       B\n2304    S_2   C_3      F  street_6     164      81  95.5      A-\n2402    S_2   C_4      M  street_7     166      82  48.7       B\n"
     ]
    }
   ],
   "source": [
    "print(df.query('(Address in [\"street_6\",\"street_7\"])&(Weight>(70+10))&(ID in [1303,2304,2402])'))"
   ]
  },
  {
   "cell_type": "markdown",
   "metadata": {},
   "source": [
    "## 五、重复元素处理\n",
    "### 1. duplicated方法\n",
    "#### 该方法返回了是否重复的布尔列表"
   ]
  },
  {
   "cell_type": "code",
   "execution_count": 285,
   "metadata": {},
   "outputs": [
    {
     "name": "stdout",
     "output_type": "stream",
     "text": [
      "ID\n1101    False\n1102     True\n1103     True\n1104     True\n1105     True\ndtype: bool\n"
     ]
    }
   ],
   "source": [
    "print(df.duplicated('Class').head())"
   ]
  },
  {
   "cell_type": "markdown",
   "metadata": {},
   "source": [
    "#### 可选参数keep默认为first，即首次出现设为不重复，若为last，则最后一次设为不重复，若为False，则所有重复项为False"
   ]
  },
  {
   "cell_type": "code",
   "execution_count": 286,
   "metadata": {},
   "outputs": [
    {
     "name": "stdout",
     "output_type": "stream",
     "text": [
      "ID\n2401     True\n2402     True\n2403     True\n2404     True\n2405    False\ndtype: bool\n"
     ]
    }
   ],
   "source": [
    "print(df.duplicated('Class',keep='last').tail())"
   ]
  },
  {
   "cell_type": "code",
   "execution_count": 289,
   "metadata": {},
   "outputs": [
    {
     "name": "stdout",
     "output_type": "stream",
     "text": [
      "ID\n1101    True\n1102    True\n1103    True\n1104    True\n1105    True\ndtype: bool\n"
     ]
    }
   ],
   "source": [
    "print(df.duplicated('Class',keep=False).head())"
   ]
  },
  {
   "cell_type": "markdown",
   "metadata": {},
   "source": [
    "### 2. drop_duplicates方法\n",
    "#### 从名字上看出为剔除重复项，这在后面章节中的分组操作中可能是有用的，例如需要保留每组的第一个值："
   ]
  },
  {
   "cell_type": "code",
   "execution_count": 292,
   "metadata": {},
   "outputs": [
    {
     "name": "stdout",
     "output_type": "stream",
     "text": [
      "     School Class Gender   Address  Height  Weight  Math Physics\nID                                                              \n1101    S_1   C_1      M  street_1     173      63  34.0      A+\n1201    S_1   C_2      M  street_5     188      68  97.0      A-\n1301    S_1   C_3      M  street_4     161      68  31.5      B+\n2401    S_2   C_4      F  street_2     192      62  45.3       A\n"
     ]
    }
   ],
   "source": [
    "print(df.drop_duplicates('Class'))"
   ]
  },
  {
   "cell_type": "markdown",
   "metadata": {},
   "source": [
    "#### 参数与duplicate函数类似："
   ]
  },
  {
   "cell_type": "code",
   "execution_count": 294,
   "metadata": {},
   "outputs": [
    {
     "name": "stdout",
     "output_type": "stream",
     "text": [
      "     School Class Gender   Address  Height  Weight  Math Physics\nID                                                              \n2105    S_2   C_1      M  street_4     170      81  34.2       A\n2205    S_2   C_2      F  street_7     183      76  85.4       B\n2305    S_2   C_3      M  street_4     187      73  48.9       B\n2405    S_2   C_4      F  street_6     193      54  47.6       B\n"
     ]
    }
   ],
   "source": [
    "print(df.drop_duplicates('Class',keep='last'))"
   ]
  },
  {
   "cell_type": "markdown",
   "metadata": {},
   "source": [
    "#### 在传入多列时等价于将多列共同视作一个多级索引，比较重复项："
   ]
  },
  {
   "cell_type": "code",
   "execution_count": 295,
   "metadata": {},
   "outputs": [
    {
     "name": "stdout",
     "output_type": "stream",
     "text": [
      "     School Class Gender   Address  Height  Weight  Math Physics\nID                                                              \n1101    S_1   C_1      M  street_1     173      63  34.0      A+\n1201    S_1   C_2      M  street_5     188      68  97.0      A-\n1301    S_1   C_3      M  street_4     161      68  31.5      B+\n2101    S_2   C_1      M  street_7     174      84  83.3       C\n2201    S_2   C_2      M  street_5     193     100  39.1       B\n2301    S_2   C_3      F  street_4     157      78  72.3      B+\n2401    S_2   C_4      F  street_2     192      62  45.3       A\n"
     ]
    }
   ],
   "source": [
    "print(df.drop_duplicates(['School','Class']))"
   ]
  },
  {
   "cell_type": "markdown",
   "metadata": {},
   "source": [
    "## 六、抽样函数\n",
    "#### 这里的抽样函数指的就是sample函数\n",
    "#### （a）n为样本量"
   ]
  },
  {
   "cell_type": "code",
   "execution_count": 297,
   "metadata": {},
   "outputs": [
    {
     "name": "stdout",
     "output_type": "stream",
     "text": [
      "     School Class Gender   Address  Height  Weight  Math Physics\nID                                                              \n1103    S_1   C_1      M  street_2     186      82  87.2      B+\n1101    S_1   C_1      M  street_1     173      63  34.0      A+\n2301    S_2   C_3      F  street_4     157      78  72.3      B+\n1302    S_1   C_3      F  street_1     175      57  87.7      A-\n2303    S_2   C_3      F  street_7     190      99  65.9       C\n"
     ]
    }
   ],
   "source": [
    "print(df.sample(n=5))"
   ]
  },
  {
   "cell_type": "markdown",
   "metadata": {},
   "source": [
    "#### （b）frac为抽样比"
   ]
  },
  {
   "cell_type": "code",
   "execution_count": 298,
   "metadata": {},
   "outputs": [
    {
     "name": "stdout",
     "output_type": "stream",
     "text": [
      "     School Class Gender   Address  Height  Weight  Math Physics\nID                                                              \n1102    S_1   C_1      F  street_2     192      73  32.5      B+\n1204    S_1   C_2      F  street_5     162      63  33.8       B\n"
     ]
    }
   ],
   "source": [
    "print(df.sample(frac=0.05))"
   ]
  },
  {
   "cell_type": "markdown",
   "metadata": {},
   "source": [
    "#### （c）replace为是否放回"
   ]
  },
  {
   "cell_type": "code",
   "execution_count": 299,
   "metadata": {},
   "outputs": [
    {
     "name": "stdout",
     "output_type": "stream",
     "text": [
      "     School Class Gender   Address  Height  Weight  Math Physics\nID                                                              \n1102    S_1   C_1      F  street_2     192      73  32.5      B+\n1305    S_1   C_3      F  street_5     187      69  61.7      B-\n2105    S_2   C_1      M  street_4     170      81  34.2       A\n1303    S_1   C_3      M  street_7     188      82  49.7       B\n2404    S_2   C_4      F  street_2     160      84  67.7       B\n"
     ]
    }
   ],
   "source": [
    "print(df.sample(n=df.shape[0],replace=True).head())"
   ]
  },
  {
   "cell_type": "code",
   "execution_count": 301,
   "metadata": {},
   "outputs": [
    {
     "name": "stdout",
     "output_type": "stream",
     "text": [
      "True\n"
     ]
    }
   ],
   "source": [
    "print(df.sample(n=1,replace=True).index.is_unique)"
   ]
  },
  {
   "cell_type": "markdown",
   "metadata": {},
   "source": [
    "#### （d）axis为抽样维度，默认为0，即抽行"
   ]
  },
  {
   "cell_type": "code",
   "execution_count": 302,
   "metadata": {},
   "outputs": [
    {
     "data": {
      "text/html": [
       "<div>\n",
       "<style scoped>\n",
       "    .dataframe tbody tr th:only-of-type {\n",
       "        vertical-align: middle;\n",
       "    }\n",
       "\n",
       "    .dataframe tbody tr th {\n",
       "        vertical-align: top;\n",
       "    }\n",
       "\n",
       "    .dataframe thead th {\n",
       "        text-align: right;\n",
       "    }\n",
       "</style>\n",
       "<table border=\"1\" class=\"dataframe\">\n",
       "  <thead>\n",
       "    <tr style=\"text-align: right;\">\n",
       "      <th></th>\n",
       "      <th>Physics</th>\n",
       "      <th>Gender</th>\n",
       "      <th>Class</th>\n",
       "    </tr>\n",
       "    <tr>\n",
       "      <th>ID</th>\n",
       "      <th></th>\n",
       "      <th></th>\n",
       "      <th></th>\n",
       "    </tr>\n",
       "  </thead>\n",
       "  <tbody>\n",
       "    <tr>\n",
       "      <td>1101</td>\n",
       "      <td>A+</td>\n",
       "      <td>M</td>\n",
       "      <td>C_1</td>\n",
       "    </tr>\n",
       "    <tr>\n",
       "      <td>1102</td>\n",
       "      <td>B+</td>\n",
       "      <td>F</td>\n",
       "      <td>C_1</td>\n",
       "    </tr>\n",
       "    <tr>\n",
       "      <td>1103</td>\n",
       "      <td>B+</td>\n",
       "      <td>M</td>\n",
       "      <td>C_1</td>\n",
       "    </tr>\n",
       "    <tr>\n",
       "      <td>1104</td>\n",
       "      <td>B-</td>\n",
       "      <td>F</td>\n",
       "      <td>C_1</td>\n",
       "    </tr>\n",
       "    <tr>\n",
       "      <td>1105</td>\n",
       "      <td>B+</td>\n",
       "      <td>F</td>\n",
       "      <td>C_1</td>\n",
       "    </tr>\n",
       "  </tbody>\n",
       "</table>\n",
       "</div>"
      ],
      "text/plain": [
       "<div>\n",
       "<style scoped>\n",
       "    .dataframe tbody tr th:only-of-type {\n",
       "        vertical-align: middle;\n",
       "    }\n",
       "\n",
       "    .dataframe tbody tr th {\n",
       "        vertical-align: top;\n",
       "    }\n",
       "\n",
       "    .dataframe thead th {\n",
       "        text-align: right;\n",
       "    }\n",
       "</style>\n",
       "<table border=\"1\" class=\"dataframe\">\n",
       "  <thead>\n",
       "    <tr style=\"text-align: right;\">\n",
       "      <th></th>\n",
       "      <th>Physics</th>\n",
       "      <th>Gender</th>\n",
       "      <th>Class</th>\n",
       "    </tr>\n",
       "    <tr>\n",
       "      <th>ID</th>\n",
       "      <th></th>\n",
       "      <th></th>\n",
       "      <th></th>\n",
       "    </tr>\n",
       "  </thead>\n",
       "  <tbody>\n",
       "    <tr>\n",
       "      <td>1101</td>\n",
       "      <td>A+</td>\n",
       "      <td>M</td>\n",
       "      <td>C_1</td>\n",
       "    </tr>\n",
       "    <tr>\n",
       "      <td>1102</td>\n",
       "      <td>B+</td>\n",
       "      <td>F</td>\n",
       "      <td>C_1</td>\n",
       "    </tr>\n",
       "    <tr>\n",
       "      <td>1103</td>\n",
       "      <td>B+</td>\n",
       "      <td>M</td>\n",
       "      <td>C_1</td>\n",
       "    </tr>\n",
       "    <tr>\n",
       "      <td>1104</td>\n",
       "      <td>B-</td>\n",
       "      <td>F</td>\n",
       "      <td>C_1</td>\n",
       "    </tr>\n",
       "    <tr>\n",
       "      <td>1105</td>\n",
       "      <td>B+</td>\n",
       "      <td>F</td>\n",
       "      <td>C_1</td>\n",
       "    </tr>\n",
       "  </tbody>\n",
       "</table>\n",
       "</div>"
      ]
     },
     "execution_count": 302,
     "metadata": {},
     "output_type": "execute_result"
    }
   ],
   "source": [
    "df.sample(n=3,axis=1).head()"
   ]
  },
  {
   "cell_type": "markdown",
   "metadata": {},
   "source": [
    "#### （e）weights为样本权重，自动归一化"
   ]
  },
  {
   "cell_type": "code",
   "execution_count": 303,
   "metadata": {},
   "outputs": [
    {
     "name": "stdout",
     "output_type": "stream",
     "text": [
      "     School Class Gender   Address  Height  Weight  Math Physics\nID                                                              \n2101    S_2   C_1      M  street_7     174      84  83.3       C\n2301    S_2   C_3      F  street_4     157      78  72.3      B+\n2304    S_2   C_3      F  street_6     164      81  95.5      A-\n"
     ]
    }
   ],
   "source": [
    "print(df.sample(n=3,weights=np.random.rand(df.shape[0])).head())"
   ]
  },
  {
   "cell_type": "code",
   "execution_count": 304,
   "metadata": {},
   "outputs": [
    {
     "name": "stdout",
     "output_type": "stream",
     "text": [
      "     School Class Gender   Address  Height  Weight  Math Physics\nID                                                              \n2403    S_2   C_4      F  street_6     158      60  59.7      B+\n2301    S_2   C_3      F  street_4     157      78  72.3      B+\n2405    S_2   C_4      F  street_6     193      54  47.6       B\n"
     ]
    }
   ],
   "source": [
    "#以某一列为权重，这在抽样理论中很常见\n",
    "print(\n",
    "df.sample(n=3,weights=df['Math']).head())"
   ]
  },
  {
   "cell_type": "code",
   "execution_count": null,
   "metadata": {},
   "outputs": [],
   "source": []
  }
 ],
 "metadata": {},
 "nbformat": 4,
 "nbformat_minor": 0
}
