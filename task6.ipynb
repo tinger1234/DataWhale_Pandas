{
 "cells": [
  {
   "cell_type": "code",
   "execution_count": 1,
   "metadata": {},
   "outputs": [
    {
     "data": {
      "text/html": [
       "<div>\n",
       "<style scoped>\n",
       "    .dataframe tbody tr th:only-of-type {\n",
       "        vertical-align: middle;\n",
       "    }\n",
       "\n",
       "    .dataframe tbody tr th {\n",
       "        vertical-align: top;\n",
       "    }\n",
       "\n",
       "    .dataframe thead th {\n",
       "        text-align: right;\n",
       "    }\n",
       "</style>\n",
       "<table border=\"1\" class=\"dataframe\">\n",
       "  <thead>\n",
       "    <tr style=\"text-align: right;\">\n",
       "      <th></th>\n",
       "      <th>Date</th>\n",
       "      <th>Total number of license issued</th>\n",
       "      <th>lowest price</th>\n",
       "      <th>avg price</th>\n",
       "      <th>Total number of applicants</th>\n",
       "    </tr>\n",
       "  </thead>\n",
       "  <tbody>\n",
       "    <tr>\n",
       "      <td>0</td>\n",
       "      <td>2-Jan</td>\n",
       "      <td>1400</td>\n",
       "      <td>13600</td>\n",
       "      <td>14735</td>\n",
       "      <td>3718</td>\n",
       "    </tr>\n",
       "    <tr>\n",
       "      <td>1</td>\n",
       "      <td>2-Feb</td>\n",
       "      <td>1800</td>\n",
       "      <td>13100</td>\n",
       "      <td>14057</td>\n",
       "      <td>4590</td>\n",
       "    </tr>\n",
       "    <tr>\n",
       "      <td>2</td>\n",
       "      <td>2-Mar</td>\n",
       "      <td>2000</td>\n",
       "      <td>14300</td>\n",
       "      <td>14662</td>\n",
       "      <td>5190</td>\n",
       "    </tr>\n",
       "    <tr>\n",
       "      <td>3</td>\n",
       "      <td>2-Apr</td>\n",
       "      <td>2300</td>\n",
       "      <td>16000</td>\n",
       "      <td>16334</td>\n",
       "      <td>4806</td>\n",
       "    </tr>\n",
       "    <tr>\n",
       "      <td>4</td>\n",
       "      <td>2-May</td>\n",
       "      <td>2350</td>\n",
       "      <td>17800</td>\n",
       "      <td>18357</td>\n",
       "      <td>4665</td>\n",
       "    </tr>\n",
       "  </tbody>\n",
       "</table>\n",
       "</div>"
      ],
      "text/plain": [
       "    Date  Total number of license issued  lowest price   avg price  \\\n",
       "0  2-Jan                            1400          13600      14735   \n",
       "1  2-Feb                            1800          13100      14057   \n",
       "2  2-Mar                            2000          14300      14662   \n",
       "3  2-Apr                            2300          16000      16334   \n",
       "4  2-May                            2350          17800      18357   \n",
       "\n",
       "   Total number of applicants  \n",
       "0                        3718  \n",
       "1                        4590  \n",
       "2                        5190  \n",
       "3                        4806  \n",
       "4                        4665  "
      ]
     },
     "execution_count": 1,
     "metadata": {},
     "output_type": "execute_result"
    }
   ],
   "source": [
    "import pandas as pd\n",
    "import numpy\n",
    "df = pd.read_csv('C:\\\\Users\\\\29146\\\\Desktop\\\\数据集\\\\2002年-2018年上海机动车拍照拍卖.csv')\n",
    "df.head()# 日期   颁发的许可证总数 最低价格 平均价格 申请者总数"
   ]
  },
  {
   "cell_type": "code",
   "execution_count": null,
   "metadata": {},
   "outputs": [],
   "source": []
  }
 ],
 "metadata": {
  "kernelspec": {
   "display_name": "Python 3",
   "language": "python",
   "name": "python3"
  },
  "language_info": {
   "codemirror_mode": {
    "name": "ipython",
    "version": 3
   },
   "file_extension": ".py",
   "mimetype": "text/x-python",
   "name": "python",
   "nbconvert_exporter": "python",
   "pygments_lexer": "ipython3",
   "version": "3.7.1"
  }
 },
 "nbformat": 4,
 "nbformat_minor": 2
}
